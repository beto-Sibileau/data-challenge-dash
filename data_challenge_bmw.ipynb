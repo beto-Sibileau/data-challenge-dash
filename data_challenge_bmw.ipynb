{
 "cells": [
  {
   "cell_type": "code",
   "execution_count": 2,
   "metadata": {},
   "outputs": [],
   "source": [
    "from dash import Dash, dcc, html\n",
    "import dash_bootstrap_components as dbc\n",
    "from dash.dependencies import Input, Output, State\n",
    "from datetime import date, datetime\n",
    "from jupyter_dash import JupyterDash\n",
    "\n",
    "import matplotlib.pyplot as plt\n",
    "import matplotlib.gridspec as gridspec\n",
    "import numpy as np\n",
    "import pandas as pd\n",
    "from pandas_profiling import ProfileReport\n",
    "import plotly.express as px\n",
    "import plotly.figure_factory as ff\n",
    "import plotly.graph_objs as go\n",
    "from pprint import pprint\n",
    "import seaborn as sns\n",
    "from sklearn.compose import make_column_selector, make_column_transformer, ColumnTransformer\n",
    "from sklearn.dummy import DummyRegressor\n",
    "from sklearn.ensemble import HistGradientBoostingRegressor, RandomForestRegressor, GradientBoostingRegressor\n",
    "from sklearn.inspection import permutation_importance\n",
    "from sklearn.linear_model import Ridge, RidgeCV\n",
    "from sklearn.metrics import mean_absolute_error, mean_absolute_percentage_error\n",
    "from sklearn.model_selection import cross_validate, RandomizedSearchCV, train_test_split, ShuffleSplit, KFold\n",
    "from sklearn.pipeline import Pipeline\n",
    "from sklearn.preprocessing import OrdinalEncoder, OneHotEncoder, StandardScaler\n",
    "from sklearn.utils import estimator_html_repr\n",
    "from scipy.stats import loguniform"
   ]
  },
  {
   "cell_type": "code",
   "execution_count": 3,
   "metadata": {},
   "outputs": [
    {
     "data": {
      "text/html": [
       "<div>\n",
       "<style scoped>\n",
       "    .dataframe tbody tr th:only-of-type {\n",
       "        vertical-align: middle;\n",
       "    }\n",
       "\n",
       "    .dataframe tbody tr th {\n",
       "        vertical-align: top;\n",
       "    }\n",
       "\n",
       "    .dataframe thead th {\n",
       "        text-align: right;\n",
       "    }\n",
       "</style>\n",
       "<table border=\"1\" class=\"dataframe\">\n",
       "  <thead>\n",
       "    <tr style=\"text-align: right;\">\n",
       "      <th></th>\n",
       "      <th>maker_key</th>\n",
       "      <th>model_key</th>\n",
       "      <th>mileage</th>\n",
       "      <th>engine_power</th>\n",
       "      <th>registration_date</th>\n",
       "      <th>fuel</th>\n",
       "      <th>paint_color</th>\n",
       "      <th>car_type</th>\n",
       "      <th>feature_1</th>\n",
       "      <th>feature_2</th>\n",
       "      <th>feature_3</th>\n",
       "      <th>feature_4</th>\n",
       "      <th>feature_5</th>\n",
       "      <th>feature_6</th>\n",
       "      <th>feature_7</th>\n",
       "      <th>feature_8</th>\n",
       "      <th>price</th>\n",
       "      <th>sold_at</th>\n",
       "    </tr>\n",
       "  </thead>\n",
       "  <tbody>\n",
       "    <tr>\n",
       "      <th>0</th>\n",
       "      <td>BMW</td>\n",
       "      <td>118</td>\n",
       "      <td>140411</td>\n",
       "      <td>100</td>\n",
       "      <td>2012-02-01</td>\n",
       "      <td>diesel</td>\n",
       "      <td>black</td>\n",
       "      <td>convertible</td>\n",
       "      <td>True</td>\n",
       "      <td>True</td>\n",
       "      <td>False</td>\n",
       "      <td>False</td>\n",
       "      <td>True</td>\n",
       "      <td>True</td>\n",
       "      <td>True</td>\n",
       "      <td>False</td>\n",
       "      <td>11300</td>\n",
       "      <td>2018-01-01</td>\n",
       "    </tr>\n",
       "    <tr>\n",
       "      <th>1</th>\n",
       "      <td>BMW</td>\n",
       "      <td>M4</td>\n",
       "      <td>13929</td>\n",
       "      <td>317</td>\n",
       "      <td>2016-04-01</td>\n",
       "      <td>petrol</td>\n",
       "      <td>grey</td>\n",
       "      <td>convertible</td>\n",
       "      <td>True</td>\n",
       "      <td>True</td>\n",
       "      <td>False</td>\n",
       "      <td>False</td>\n",
       "      <td>False</td>\n",
       "      <td>True</td>\n",
       "      <td>True</td>\n",
       "      <td>True</td>\n",
       "      <td>69700</td>\n",
       "      <td>2018-02-01</td>\n",
       "    </tr>\n",
       "    <tr>\n",
       "      <th>2</th>\n",
       "      <td>BMW</td>\n",
       "      <td>320</td>\n",
       "      <td>183297</td>\n",
       "      <td>120</td>\n",
       "      <td>2012-04-01</td>\n",
       "      <td>diesel</td>\n",
       "      <td>white</td>\n",
       "      <td>convertible</td>\n",
       "      <td>False</td>\n",
       "      <td>False</td>\n",
       "      <td>False</td>\n",
       "      <td>False</td>\n",
       "      <td>True</td>\n",
       "      <td>False</td>\n",
       "      <td>True</td>\n",
       "      <td>False</td>\n",
       "      <td>10200</td>\n",
       "      <td>2018-02-01</td>\n",
       "    </tr>\n",
       "    <tr>\n",
       "      <th>3</th>\n",
       "      <td>BMW</td>\n",
       "      <td>420</td>\n",
       "      <td>128035</td>\n",
       "      <td>135</td>\n",
       "      <td>2014-07-01</td>\n",
       "      <td>diesel</td>\n",
       "      <td>red</td>\n",
       "      <td>convertible</td>\n",
       "      <td>True</td>\n",
       "      <td>True</td>\n",
       "      <td>False</td>\n",
       "      <td>False</td>\n",
       "      <td>True</td>\n",
       "      <td>True</td>\n",
       "      <td>True</td>\n",
       "      <td>True</td>\n",
       "      <td>25100</td>\n",
       "      <td>2018-02-01</td>\n",
       "    </tr>\n",
       "    <tr>\n",
       "      <th>4</th>\n",
       "      <td>BMW</td>\n",
       "      <td>425</td>\n",
       "      <td>97097</td>\n",
       "      <td>160</td>\n",
       "      <td>2014-12-01</td>\n",
       "      <td>diesel</td>\n",
       "      <td>silver</td>\n",
       "      <td>convertible</td>\n",
       "      <td>True</td>\n",
       "      <td>True</td>\n",
       "      <td>False</td>\n",
       "      <td>False</td>\n",
       "      <td>False</td>\n",
       "      <td>True</td>\n",
       "      <td>True</td>\n",
       "      <td>True</td>\n",
       "      <td>33400</td>\n",
       "      <td>2018-04-01</td>\n",
       "    </tr>\n",
       "    <tr>\n",
       "      <th>...</th>\n",
       "      <td>...</td>\n",
       "      <td>...</td>\n",
       "      <td>...</td>\n",
       "      <td>...</td>\n",
       "      <td>...</td>\n",
       "      <td>...</td>\n",
       "      <td>...</td>\n",
       "      <td>...</td>\n",
       "      <td>...</td>\n",
       "      <td>...</td>\n",
       "      <td>...</td>\n",
       "      <td>...</td>\n",
       "      <td>...</td>\n",
       "      <td>...</td>\n",
       "      <td>...</td>\n",
       "      <td>...</td>\n",
       "      <td>...</td>\n",
       "      <td>...</td>\n",
       "    </tr>\n",
       "    <tr>\n",
       "      <th>4838</th>\n",
       "      <td>BMW</td>\n",
       "      <td>218 Gran Tourer</td>\n",
       "      <td>39743</td>\n",
       "      <td>110</td>\n",
       "      <td>2015-10-01</td>\n",
       "      <td>diesel</td>\n",
       "      <td>black</td>\n",
       "      <td>van</td>\n",
       "      <td>False</td>\n",
       "      <td>True</td>\n",
       "      <td>False</td>\n",
       "      <td>False</td>\n",
       "      <td>False</td>\n",
       "      <td>False</td>\n",
       "      <td>True</td>\n",
       "      <td>False</td>\n",
       "      <td>14600</td>\n",
       "      <td>2018-08-01</td>\n",
       "    </tr>\n",
       "    <tr>\n",
       "      <th>4839</th>\n",
       "      <td>BMW</td>\n",
       "      <td>218 Active Tourer</td>\n",
       "      <td>49832</td>\n",
       "      <td>100</td>\n",
       "      <td>2015-06-01</td>\n",
       "      <td>diesel</td>\n",
       "      <td>grey</td>\n",
       "      <td>van</td>\n",
       "      <td>False</td>\n",
       "      <td>True</td>\n",
       "      <td>False</td>\n",
       "      <td>False</td>\n",
       "      <td>False</td>\n",
       "      <td>False</td>\n",
       "      <td>True</td>\n",
       "      <td>True</td>\n",
       "      <td>17500</td>\n",
       "      <td>2018-08-01</td>\n",
       "    </tr>\n",
       "    <tr>\n",
       "      <th>4840</th>\n",
       "      <td>BMW</td>\n",
       "      <td>218 Gran Tourer</td>\n",
       "      <td>19633</td>\n",
       "      <td>110</td>\n",
       "      <td>2015-10-01</td>\n",
       "      <td>diesel</td>\n",
       "      <td>grey</td>\n",
       "      <td>van</td>\n",
       "      <td>False</td>\n",
       "      <td>True</td>\n",
       "      <td>False</td>\n",
       "      <td>False</td>\n",
       "      <td>False</td>\n",
       "      <td>False</td>\n",
       "      <td>True</td>\n",
       "      <td>True</td>\n",
       "      <td>17000</td>\n",
       "      <td>2018-09-01</td>\n",
       "    </tr>\n",
       "    <tr>\n",
       "      <th>4841</th>\n",
       "      <td>BMW</td>\n",
       "      <td>218 Active Tourer</td>\n",
       "      <td>27920</td>\n",
       "      <td>110</td>\n",
       "      <td>2016-04-01</td>\n",
       "      <td>diesel</td>\n",
       "      <td>brown</td>\n",
       "      <td>van</td>\n",
       "      <td>True</td>\n",
       "      <td>True</td>\n",
       "      <td>False</td>\n",
       "      <td>False</td>\n",
       "      <td>False</td>\n",
       "      <td>False</td>\n",
       "      <td>True</td>\n",
       "      <td>True</td>\n",
       "      <td>22700</td>\n",
       "      <td>2018-09-01</td>\n",
       "    </tr>\n",
       "    <tr>\n",
       "      <th>4842</th>\n",
       "      <td>BMW</td>\n",
       "      <td>525</td>\n",
       "      <td>195840</td>\n",
       "      <td>160</td>\n",
       "      <td>2013-01-01</td>\n",
       "      <td>diesel</td>\n",
       "      <td>grey</td>\n",
       "      <td>van</td>\n",
       "      <td>True</td>\n",
       "      <td>True</td>\n",
       "      <td>False</td>\n",
       "      <td>False</td>\n",
       "      <td>True</td>\n",
       "      <td>False</td>\n",
       "      <td>True</td>\n",
       "      <td>True</td>\n",
       "      <td>15500</td>\n",
       "      <td>2018-09-01</td>\n",
       "    </tr>\n",
       "  </tbody>\n",
       "</table>\n",
       "<p>4843 rows × 18 columns</p>\n",
       "</div>"
      ],
      "text/plain": [
       "     maker_key          model_key  mileage  engine_power registration_date  \\\n",
       "0          BMW                118   140411           100        2012-02-01   \n",
       "1          BMW                 M4    13929           317        2016-04-01   \n",
       "2          BMW                320   183297           120        2012-04-01   \n",
       "3          BMW                420   128035           135        2014-07-01   \n",
       "4          BMW                425    97097           160        2014-12-01   \n",
       "...        ...                ...      ...           ...               ...   \n",
       "4838       BMW    218 Gran Tourer    39743           110        2015-10-01   \n",
       "4839       BMW  218 Active Tourer    49832           100        2015-06-01   \n",
       "4840       BMW    218 Gran Tourer    19633           110        2015-10-01   \n",
       "4841       BMW  218 Active Tourer    27920           110        2016-04-01   \n",
       "4842       BMW                525   195840           160        2013-01-01   \n",
       "\n",
       "        fuel paint_color     car_type  feature_1  feature_2  feature_3  \\\n",
       "0     diesel       black  convertible       True       True      False   \n",
       "1     petrol        grey  convertible       True       True      False   \n",
       "2     diesel       white  convertible      False      False      False   \n",
       "3     diesel         red  convertible       True       True      False   \n",
       "4     diesel      silver  convertible       True       True      False   \n",
       "...      ...         ...          ...        ...        ...        ...   \n",
       "4838  diesel       black          van      False       True      False   \n",
       "4839  diesel        grey          van      False       True      False   \n",
       "4840  diesel        grey          van      False       True      False   \n",
       "4841  diesel       brown          van       True       True      False   \n",
       "4842  diesel        grey          van       True       True      False   \n",
       "\n",
       "      feature_4  feature_5  feature_6  feature_7  feature_8  price    sold_at  \n",
       "0         False       True       True       True      False  11300 2018-01-01  \n",
       "1         False      False       True       True       True  69700 2018-02-01  \n",
       "2         False       True      False       True      False  10200 2018-02-01  \n",
       "3         False       True       True       True       True  25100 2018-02-01  \n",
       "4         False      False       True       True       True  33400 2018-04-01  \n",
       "...         ...        ...        ...        ...        ...    ...        ...  \n",
       "4838      False      False      False       True      False  14600 2018-08-01  \n",
       "4839      False      False      False       True       True  17500 2018-08-01  \n",
       "4840      False      False      False       True       True  17000 2018-09-01  \n",
       "4841      False      False      False       True       True  22700 2018-09-01  \n",
       "4842      False       True      False       True       True  15500 2018-09-01  \n",
       "\n",
       "[4843 rows x 18 columns]"
      ]
     },
     "execution_count": 3,
     "metadata": {},
     "output_type": "execute_result"
    }
   ],
   "source": [
    "car_price_df = pd.read_csv(\"data_pricing_challenge.csv\", parse_dates=[\"registration_date\", \"sold_at\"])\n",
    "car_price_df"
   ]
  },
  {
   "cell_type": "code",
   "execution_count": 4,
   "metadata": {},
   "outputs": [
    {
     "name": "stdout",
     "output_type": "stream",
     "text": [
      "Total Nulls in Dataset: 0\n",
      "Data types:\n",
      "maker_key                    object\n",
      "model_key                    object\n",
      "mileage                       int64\n",
      "engine_power                  int64\n",
      "registration_date    datetime64[ns]\n",
      "fuel                         object\n",
      "paint_color                  object\n",
      "car_type                     object\n",
      "feature_1                      bool\n",
      "feature_2                      bool\n",
      "feature_3                      bool\n",
      "feature_4                      bool\n",
      "feature_5                      bool\n",
      "feature_6                      bool\n",
      "feature_7                      bool\n",
      "feature_8                      bool\n",
      "price                         int64\n",
      "sold_at              datetime64[ns]\n",
      "dtype: object\n"
     ]
    }
   ],
   "source": [
    "# check for null values\n",
    "print(f\"Total Nulls in Dataset: {car_price_df.isnull().sum().sum()}\")\n",
    "# check data types\n",
    "print(f\"Data types:\\n{car_price_df.dtypes}\")"
   ]
  },
  {
   "cell_type": "code",
   "execution_count": 5,
   "metadata": {},
   "outputs": [
    {
     "name": "stdout",
     "output_type": "stream",
     "text": [
      "['BMW']\n"
     ]
    }
   ],
   "source": [
    "# check if all BMW\n",
    "print(car_price_df.maker_key.unique())\n",
    "features = [f\"feature_{i}\" for i in range(1,9)]\n",
    "cat_var = [\"model_key\", \"fuel\", \"paint_color\", \"car_type\", *features]\n",
    "num_var = [\"mileage\", \"engine_power\", \"registration_date\", \"sold_at\"]\n",
    "target = [\"price\"]"
   ]
  },
  {
   "cell_type": "code",
   "execution_count": 6,
   "metadata": {},
   "outputs": [
    {
     "name": "stdout",
     "output_type": "stream",
     "text": [
      "Sold year values: [2018]\n",
      "Sales per month:\n",
      "5    809\n",
      "3    739\n",
      "4    693\n",
      "6    604\n",
      "7    537\n",
      "8    528\n",
      "2    502\n",
      "9    223\n",
      "1    208\n",
      "Name: sold_at, dtype: int64\n"
     ]
    }
   ],
   "source": [
    "# check 2018 is sold year only\n",
    "print(f\"Sold year values: {car_price_df.sold_at.dt.year.unique()}\")\n",
    "# check number of sales per month\n",
    "print(f\"Sales per month:\\n{car_price_df.sold_at.dt.month.value_counts()}\")\n",
    "# transform column to sold month (model seasonality)\n",
    "car_price_df.loc[:, \"sold_at\"] = car_price_df.sold_at.dt.month\n"
   ]
  },
  {
   "cell_type": "code",
   "execution_count": 7,
   "metadata": {},
   "outputs": [
    {
     "name": "stdout",
     "output_type": "stream",
     "text": [
      "Registration years:\n",
      "2013    1546\n",
      "2014    1288\n",
      "2012     820\n",
      "2015     311\n",
      "2011     215\n",
      "2008     103\n",
      "2010     103\n",
      "2009      87\n",
      "2016      83\n",
      "2006      67\n",
      "2007      59\n",
      "2005      54\n",
      "2004      28\n",
      "2001      17\n",
      "2003      16\n",
      "2017      11\n",
      "2000      10\n",
      "2002       9\n",
      "1997       5\n",
      "1999       4\n",
      "1996       2\n",
      "1998       2\n",
      "1995       1\n",
      "1990       1\n",
      "1994       1\n",
      "Name: registration_date, dtype: int64\n"
     ]
    }
   ],
   "source": [
    "# count registration years\n",
    "print(f\"Registration years:\\n{car_price_df.registration_date.dt.year.value_counts()}\")\n",
    "# transform column to registrated year (simplify car age)\n",
    "car_price_df.loc[:, \"registration_date\"] = car_price_df.registration_date.dt.year"
   ]
  },
  {
   "cell_type": "code",
   "execution_count": 8,
   "metadata": {},
   "outputs": [
    {
     "name": "stdout",
     "output_type": "stream",
     "text": [
      "            mileage  engine_power  registration_date      sold_at  \\\n",
      "count  4.843000e+03    4843.00000        4843.000000  4843.000000   \n",
      "mean   1.409628e+05     128.98823        2012.467479     4.926698   \n",
      "std    6.019674e+04      38.99336           2.526997     2.157615   \n",
      "min   -6.400000e+01       0.00000        1990.000000     1.000000   \n",
      "25%    1.029135e+05     100.00000        2012.000000     3.000000   \n",
      "50%    1.410800e+05     120.00000        2013.000000     5.000000   \n",
      "75%    1.751955e+05     135.00000        2014.000000     7.000000   \n",
      "max    1.000376e+06     423.00000        2017.000000     9.000000   \n",
      "\n",
      "               price  \n",
      "count    4843.000000  \n",
      "mean    15828.081767  \n",
      "std      9220.285684  \n",
      "min       100.000000  \n",
      "25%     10800.000000  \n",
      "50%     14200.000000  \n",
      "75%     18600.000000  \n",
      "max    178500.000000  \n",
      "Cars with zero engine_power entries: 1\n",
      "Cars with negative mileage entries: 1\n"
     ]
    }
   ],
   "source": [
    "# describe numerical variables mileage, engine_power and target price\n",
    "print(car_price_df[[*num_var, *target]].describe())\n",
    "# zero engine_power entries\n",
    "print(f\"Cars with zero engine_power entries: {(car_price_df.engine_power == 0).sum()}\")\n",
    "# cars with negative mileage entries\n",
    "print(f\"Cars with negative mileage entries: {(car_price_df.mileage < 0).sum()}\")"
   ]
  },
  {
   "cell_type": "code",
   "execution_count": 9,
   "metadata": {},
   "outputs": [
    {
     "name": "stdout",
     "output_type": "stream",
     "text": [
      "Engine Power counts:\n",
      "135    882\n",
      "120    785\n",
      "85     631\n",
      "100    570\n",
      "105    451\n",
      "190    319\n",
      "140    166\n",
      "160    153\n",
      "110    142\n",
      "230    119\n",
      "155     99\n",
      "180     62\n",
      "225     49\n",
      "130     47\n",
      "150     43\n",
      "90      40\n",
      "280     32\n",
      "122     30\n",
      "173     25\n",
      "210     21\n",
      "137     19\n",
      "125     16\n",
      "170     14\n",
      "70      11\n",
      "145      9\n",
      "75       9\n",
      "235      7\n",
      "142      6\n",
      "87       6\n",
      "240      5\n",
      "220      5\n",
      "127      5\n",
      "112      5\n",
      "80       4\n",
      "119      4\n",
      "309      4\n",
      "317      4\n",
      "77       3\n",
      "195      3\n",
      "107      3\n",
      "95       3\n",
      "200      3\n",
      "25       2\n",
      "192      2\n",
      "101      2\n",
      "189      2\n",
      "141      2\n",
      "270      2\n",
      "66       2\n",
      "183      2\n",
      "233      2\n",
      "224      1\n",
      "423      1\n",
      "300      1\n",
      "412      1\n",
      "250      1\n",
      "121      1\n",
      "239      1\n",
      "236      1\n",
      "261      1\n",
      "Name: engine_power, dtype: int64\n"
     ]
    }
   ],
   "source": [
    "# drop the two cases above\n",
    "car_price_df.drop(car_price_df[car_price_df.engine_power == 0].index, inplace=True)\n",
    "car_price_df.drop(car_price_df[car_price_df.mileage < 0].index, inplace=True)\n",
    "\n",
    "# count engine power\n",
    "print(f\"Engine Power counts:\\n{car_price_df.engine_power.value_counts()}\")"
   ]
  },
  {
   "cell_type": "code",
   "execution_count": 10,
   "metadata": {},
   "outputs": [
    {
     "data": {
      "image/png": "[encoded data removed]",
      "text/plain": [
       "<Figure size 864x288 with 5 Axes>"
      ]
     },
     "metadata": {
      "needs_background": "light"
     },
     "output_type": "display_data"
    }
   ],
   "source": [
    "# Inspect num_var distributions\n",
    "fig = plt.figure(figsize=[12,4],constrained_layout=True)\n",
    "fig.suptitle('Numerical Variables Distributions', size=14, weight='bold',y=1.05)\n",
    "spec = gridspec.GridSpec(ncols=5, nrows=1, figure=fig)\n",
    "ax = [fig.add_subplot(spec[0, i]) for i in range(5)]\n",
    "label_prop = {'size':13, 'style':'oblique'}\n",
    "\n",
    "for i, var in enumerate([*num_var, *target]):\n",
    "    sns.histplot(car_price_df[var], ax=ax[i])\n",
    "    # Tweak using Matplotlib\n",
    "    plt.sca(ax[i])\n",
    "    plt.xticks(fontsize=8)\n",
    "    plt.yticks(fontsize=10)\n",
    "    plt.xlabel(var, fontdict=label_prop)"
   ]
  },
  {
   "cell_type": "code",
   "execution_count": 11,
   "metadata": {},
   "outputs": [
    {
     "data": {
      "image/png": "[encoded data removed]",
      "text/plain": [
       "<Figure size 432x288 with 2 Axes>"
      ]
     },
     "metadata": {
      "needs_background": "light"
     },
     "output_type": "display_data"
    }
   ],
   "source": [
    "# Compute the correlation matrix on numeric variables\n",
    "corr_num_var = car_price_df[[*num_var, *target]].corr(method='spearman')\n",
    "\n",
    "# Generate a mask for the upper triangle\n",
    "mask = np.triu(np.ones_like(corr_num_var, dtype=bool))\n",
    "# Set up the matplotlib figure\n",
    "f, ax = plt.subplots(figsize=(6, 4))\n",
    "# Generate a custom diverging colormap\n",
    "cmap = sns.diverging_palette(220, 10, as_cmap=True)\n",
    "\n",
    "# Draw the heatmap with the mask and correct aspect ratio\n",
    "g = sns.heatmap(\n",
    "    corr_num_var,\n",
    "    mask=mask,\n",
    "    cmap=cmap,\n",
    "    square=True,\n",
    "    linewidths=.5,\n",
    "    cbar_kws={\"shrink\": .5},\n",
    "    annot=True,\n",
    ")\n",
    "plt.xticks(fontsize=10, rotation=45)\n",
    "plt.yticks(fontsize=10)\n",
    "# use matplotlib.colorbar.Colorbar object\n",
    "cbar = g.collections[0].colorbar\n",
    "# here set the labelsize\n",
    "cbar.ax.tick_params(labelsize=12)"
   ]
  },
  {
   "cell_type": "code",
   "execution_count": 13,
   "metadata": {},
   "outputs": [
    {
     "data": {
      "image/svg+xml": "<svg class=\"main-svg\" xmlns=\"http://www.w3.org/2000/svg\" xmlns:xlink=\"http://www.w3.org/1999/xlink\" width=\"700\" height=\"500\" style=\"\" viewBox=\"0 0 700 500\"><rect x=\"0\" y=\"0\" width=\"700\" height=\"500\" style=\"fill: rgb(255, 255, 255); fill-opacity: 1;\"/><defs id=\"defs-300eb9\"><g class=\"clips\"><clipPath id=\"clip300eb9xyplot\" class=\"plotclip\"><rect width=\"540\" height=\"320\"/></clipPath><clipPath class=\"axesclip\" id=\"clip300eb9x\"><rect x=\"80\" y=\"0\" width=\"540\" height=\"500\"/></clipPath><clipPath class=\"axesclip\" id=\"clip300eb9y\"><rect x=\"0\" y=\"100\" width=\"700\" height=\"320\"/></clipPath><clipPath class=\"axesclip\" id=\"clip300eb9xy\"><rect x=\"80\" y=\"100\" width=\"540\" height=\"320\"/></clipPath></g><g class=\"gradients\"/><g class=\"patterns\"/></defs><g class=\"bglayer\"><rect class=\"bg\" x=\"80\" y=\"100\" width=\"540\" height=\"320\" style=\"fill: rgb(229, 236, 246); fill-opacity: 1; stroke-width: 0;\"/></g><g class=\"layer-below\"><g class=\"imagelayer\"/><g class=\"shapelayer\"/></g><g class=\"cartesianlayer\"><g class=\"subplot xy\"><g class=\"layer-subplot\"><g class=\"shapelayer\"/><g class=\"imagelayer\"/></g><g class=\"minor-gridlayer\"><g class=\"x\"/><g class=\"y\"/></g><g class=\"gridlayer\"><g class=\"x\"><path class=\"xgrid crisp\" transform=\"translate(185.97,0)\" d=\"M0,100v320\" style=\"stroke: rgb(255, 255, 255); stroke-opacity: 1; stroke-width: 1px;\"/><path class=\"xgrid crisp\" transform=\"translate(291.94,0)\" d=\"M0,100v320\" style=\"stroke: rgb(255, 255, 255); stroke-opacity: 1; stroke-width: 1px;\"/><path class=\"xgrid crisp\" transform=\"translate(397.91,0)\" d=\"M0,100v320\" style=\"stroke: rgb(255, 255, 255); stroke-opacity: 1; stroke-width: 1px;\"/><path class=\"xgrid crisp\" transform=\"translate(503.88,0)\" d=\"M0,100v320\" style=\"stroke: rgb(255, 255, 255); stroke-opacity: 1; stroke-width: 1px;\"/><path class=\"xgrid crisp\" transform=\"translate(609.85,0)\" d=\"M0,100v320\" style=\"stroke: rgb(255, 255, 255); stroke-opacity: 1; stroke-width: 1px;\"/></g><g class=\"y\"/></g><g class=\"zerolinelayer\"><path class=\"xzl zl crisp\" transform=\"translate(80,0)\" d=\"M0,100v320\" style=\"stroke: rgb(255, 255, 255); stroke-opacity: 1; stroke-width: 2px;\"/></g><path class=\"xlines-below\"/><path class=\"ylines-below\"/><g class=\"overlines-below\"/><g class=\"xaxislayer-below\"/><g class=\"yaxislayer-below\"/><g class=\"overaxes-below\"/><g class=\"plot\" transform=\"translate(80,100)\" clip-path=\"url(#clip300eb9xyplot)\"><g class=\"barlayer mlayer\"><g class=\"trace bars\" shape-rendering=\"crispEdges\" style=\"opacity: 1;\"><g class=\"points\"><g class=\"point\"><path d=\"M0,317.33V296H1.59V317.33Z\" style=\"vector-effect: non-scaling-stroke; opacity: 1; stroke-width: 0.5px; fill: rgb(99, 110, 250); fill-opacity: 1; stroke: rgb(229, 236, 246); stroke-opacity: 1;\"/></g></g></g><g class=\"trace bars\" shape-rendering=\"crispEdges\" style=\"opacity: 1;\"><g class=\"points\"><g class=\"point\"><path d=\"M1.59,317.33V296H39.53V317.33Z\" style=\"vector-effect: non-scaling-stroke; opacity: 1; stroke-width: 0.5px; fill: rgb(239, 85, 59); fill-opacity: 1; stroke: rgb(229, 236, 246); stroke-opacity: 1;\"/></g></g></g><g class=\"trace bars\" shape-rendering=\"crispEdges\" style=\"opacity: 1;\"><g class=\"points\"><g class=\"point\"><path d=\"M39.53,317.33V296H54.68V317.33Z\" style=\"vector-effect: non-scaling-stroke; opacity: 1; stroke-width: 0.5px; fill: rgb(0, 204, 150); fill-opacity: 1; stroke: rgb(229, 236, 246); stroke-opacity: 1;\"/></g></g></g><g class=\"trace bars\" shape-rendering=\"crispEdges\" style=\"opacity: 1;\"><g class=\"points\"><g class=\"point\"><path d=\"M54.68,317.33V296H58.5V317.33Z\" style=\"vector-effect: non-scaling-stroke; opacity: 1; stroke-width: 0.5px; fill: rgb(171, 99, 250); fill-opacity: 1; stroke: rgb(229, 236, 246); stroke-opacity: 1;\"/></g></g></g><g class=\"trace bars\" shape-rendering=\"crispEdges\" style=\"opacity: 1;\"><g class=\"points\"><g class=\"point\"><path d=\"M58.5,317.33V296H58.71V317.33Z\" style=\"vector-effect: non-scaling-stroke; opacity: 1; stroke-width: 0.5px; fill: rgb(255, 161, 90); fill-opacity: 1; stroke: rgb(229, 236, 246); stroke-opacity: 1;\"/></g></g></g><g class=\"trace bars\" shape-rendering=\"crispEdges\" style=\"opacity: 1;\"><g class=\"points\"><g class=\"point\"><path d=\"M58.71,317.33V296H59.24V317.33Z\" style=\"vector-effect: non-scaling-stroke; opacity: 1; stroke-width: 0.5px; fill: rgb(25, 211, 243); fill-opacity: 1; stroke: rgb(229, 236, 246); stroke-opacity: 1;\"/></g></g></g><g class=\"trace bars\" shape-rendering=\"crispEdges\" style=\"opacity: 1;\"><g class=\"points\"><g class=\"point\"><path d=\"M59.24,317.33V296H59.66V317.33Z\" style=\"vector-effect: non-scaling-stroke; opacity: 1; stroke-width: 0.5px; fill: rgb(255, 102, 146); fill-opacity: 1; stroke: rgb(229, 236, 246); stroke-opacity: 1;\"/></g></g></g><g class=\"trace bars\" shape-rendering=\"crispEdges\" style=\"opacity: 1;\"><g class=\"points\"><g class=\"point\"><path d=\"M59.66,317.33V296H59.77V317.33Z\" style=\"vector-effect: non-scaling-stroke; opacity: 1; stroke-width: 0.5px; fill: rgb(182, 232, 128); fill-opacity: 1; stroke: rgb(229, 236, 246); stroke-opacity: 1;\"/></g></g></g><g class=\"trace bars\" shape-rendering=\"crispEdges\" style=\"opacity: 1;\"><g class=\"points\"><g class=\"point\"><path d=\"M59.77,317.33V296H59.87V317.33Z\" style=\"vector-effect: non-scaling-stroke; opacity: 1; stroke-width: 0.5px; fill: rgb(255, 151, 255); fill-opacity: 1; stroke: rgb(229, 236, 246); stroke-opacity: 1;\"/></g></g></g><g class=\"trace bars\" shape-rendering=\"crispEdges\" style=\"opacity: 1;\"><g class=\"points\"><g class=\"point\"><path d=\"M59.87,317.33V296H60.19V317.33Z\" style=\"vector-effect: non-scaling-stroke; opacity: 1; stroke-width: 0.5px; fill: rgb(254, 203, 82); fill-opacity: 1; stroke: rgb(229, 236, 246); stroke-opacity: 1;\"/></g></g></g><g class=\"trace bars\" shape-rendering=\"crispEdges\" style=\"opacity: 1;\"><g class=\"points\"><g class=\"point\"><path d=\"M60.19,317.33V296H60.61V317.33Z\" style=\"vector-effect: non-scaling-stroke; opacity: 1; stroke-width: 0.5px; fill: rgb(99, 110, 250); fill-opacity: 1; stroke: rgb(229, 236, 246); stroke-opacity: 1;\"/></g></g></g><g class=\"trace bars\" shape-rendering=\"crispEdges\" style=\"opacity: 1;\"><g class=\"points\"><g class=\"point\"><path d=\"M60.61,317.33V296H61.99V317.33Z\" style=\"vector-effect: non-scaling-stroke; opacity: 1; stroke-width: 0.5px; fill: rgb(239, 85, 59); fill-opacity: 1; stroke: rgb(229, 236, 246); stroke-opacity: 1;\"/></g></g></g><g class=\"trace bars\" shape-rendering=\"crispEdges\" style=\"opacity: 1;\"><g class=\"points\"><g class=\"point\"><path d=\"M61.99,317.33V296H63.48V317.33Z\" style=\"vector-effect: non-scaling-stroke; opacity: 1; stroke-width: 0.5px; fill: rgb(0, 204, 150); fill-opacity: 1; stroke: rgb(229, 236, 246); stroke-opacity: 1;\"/></g></g></g><g class=\"trace bars\" shape-rendering=\"crispEdges\" style=\"opacity: 1;\"><g class=\"points\"><g class=\"point\"><path d=\"M63.48,317.33V296H64.43V317.33Z\" style=\"vector-effect: non-scaling-stroke; opacity: 1; stroke-width: 0.5px; fill: rgb(171, 99, 250); fill-opacity: 1; stroke: rgb(229, 236, 246); stroke-opacity: 1;\"/></g></g></g><g class=\"trace bars\" shape-rendering=\"crispEdges\" style=\"opacity: 1;\"><g class=\"points\"><g class=\"point\"><path d=\"M64.43,317.33V296H64.75V317.33Z\" style=\"vector-effect: non-scaling-stroke; opacity: 1; stroke-width: 0.5px; fill: rgb(255, 161, 90); fill-opacity: 1; stroke: rgb(229, 236, 246); stroke-opacity: 1;\"/></g></g></g><g class=\"trace bars\" shape-rendering=\"crispEdges\" style=\"opacity: 1;\"><g class=\"points\"><g class=\"point\"><path d=\"M64.75,317.33V296H64.85V317.33Z\" style=\"vector-effect: non-scaling-stroke; opacity: 1; stroke-width: 0.5px; fill: rgb(25, 211, 243); fill-opacity: 1; stroke: rgb(229, 236, 246); stroke-opacity: 1;\"/></g></g></g><g class=\"trace bars\" shape-rendering=\"crispEdges\" style=\"opacity: 1;\"><g class=\"points\"><g class=\"point\"><path d=\"M64.85,317.33V296H64.96V317.33Z\" style=\"vector-effect: non-scaling-stroke; opacity: 1; stroke-width: 0.5px; fill: rgb(255, 102, 146); fill-opacity: 1; stroke: rgb(229, 236, 246); stroke-opacity: 1;\"/></g></g></g><g class=\"trace bars\" shape-rendering=\"crispEdges\" style=\"opacity: 1;\"><g class=\"points\"><g class=\"point\"><path d=\"M64.96,317.33V296H65.07V317.33Z\" style=\"vector-effect: non-scaling-stroke; opacity: 1; stroke-width: 0.5px; fill: rgb(182, 232, 128); fill-opacity: 1; stroke: rgb(229, 236, 246); stroke-opacity: 1;\"/></g></g></g><g class=\"trace bars\" shape-rendering=\"crispEdges\" style=\"opacity: 1;\"><g class=\"points\"><g class=\"point\"><path d=\"M65.07,317.33V296H89.97V317.33Z\" style=\"vector-effect: non-scaling-stroke; opacity: 1; stroke-width: 0.5px; fill: rgb(255, 151, 255); fill-opacity: 1; stroke: rgb(229, 236, 246); stroke-opacity: 1;\"/></g></g></g><g class=\"trace bars\" shape-rendering=\"crispEdges\" style=\"opacity: 1;\"><g class=\"points\"><g class=\"point\"><path d=\"M89.97,317.33V296H150.27V317.33Z\" style=\"vector-effect: non-scaling-stroke; opacity: 1; stroke-width: 0.5px; fill: rgb(254, 203, 82); fill-opacity: 1; stroke: rgb(229, 236, 246); stroke-opacity: 1;\"/></g></g></g><g class=\"trace bars\" shape-rendering=\"crispEdges\" style=\"opacity: 1;\"><g class=\"points\"><g class=\"point\"><path d=\"M150.27,317.33V296H160.54V317.33Z\" style=\"vector-effect: non-scaling-stroke; opacity: 1; stroke-width: 0.5px; fill: rgb(99, 110, 250); fill-opacity: 1; stroke: rgb(229, 236, 246); stroke-opacity: 1;\"/></g></g></g><g class=\"trace bars\" shape-rendering=\"crispEdges\" style=\"opacity: 1;\"><g class=\"points\"><g class=\"point\"><path d=\"M160.54,317.33V296H240.23V317.33Z\" style=\"vector-effect: non-scaling-stroke; opacity: 1; stroke-width: 0.5px; fill: rgb(239, 85, 59); fill-opacity: 1; stroke: rgb(229, 236, 246); stroke-opacity: 1;\"/></g></g></g><g class=\"trace bars\" shape-rendering=\"crispEdges\" style=\"opacity: 1;\"><g class=\"points\"><g class=\"point\"><path d=\"M240.23,317.33V296H247.97V317.33Z\" style=\"vector-effect: non-scaling-stroke; opacity: 1; stroke-width: 0.5px; fill: rgb(0, 204, 150); fill-opacity: 1; stroke: rgb(229, 236, 246); stroke-opacity: 1;\"/></g></g></g><g class=\"trace bars\" shape-rendering=\"crispEdges\" style=\"opacity: 1;\"><g class=\"points\"><g class=\"point\"><path d=\"M247.97,317.33V296H249.98V317.33Z\" style=\"vector-effect: non-scaling-stroke; opacity: 1; stroke-width: 0.5px; fill: rgb(171, 99, 250); fill-opacity: 1; stroke: rgb(229, 236, 246); stroke-opacity: 1;\"/></g></g></g><g class=\"trace bars\" shape-rendering=\"crispEdges\" style=\"opacity: 1;\"><g class=\"points\"><g class=\"point\"><path d=\"M249.98,317.33V296H250.41V317.33Z\" style=\"vector-effect: non-scaling-stroke; opacity: 1; stroke-width: 0.5px; fill: rgb(255, 161, 90); fill-opacity: 1; stroke: rgb(229, 236, 246); stroke-opacity: 1;\"/></g></g></g><g class=\"trace bars\" shape-rendering=\"crispEdges\" style=\"opacity: 1;\"><g class=\"points\"><g class=\"point\"><path d=\"M250.41,317.33V296H250.94V317.33Z\" style=\"vector-effect: non-scaling-stroke; opacity: 1; stroke-width: 0.5px; fill: rgb(25, 211, 243); fill-opacity: 1; stroke: rgb(229, 236, 246); stroke-opacity: 1;\"/></g></g></g><g class=\"trace bars\" shape-rendering=\"crispEdges\" style=\"opacity: 1;\"><g class=\"points\"><g class=\"point\"><path d=\"M250.94,317.33V296H254.43V317.33Z\" style=\"vector-effect: non-scaling-stroke; opacity: 1; stroke-width: 0.5px; fill: rgb(255, 102, 146); fill-opacity: 1; stroke: rgb(229, 236, 246); stroke-opacity: 1;\"/></g></g></g><g class=\"trace bars\" shape-rendering=\"crispEdges\" style=\"opacity: 1;\"><g class=\"points\"><g class=\"point\"><path d=\"M254.43,317.33V296H254.75V317.33Z\" style=\"vector-effect: non-scaling-stroke; opacity: 1; stroke-width: 0.5px; fill: rgb(182, 232, 128); fill-opacity: 1; stroke: rgb(229, 236, 246); stroke-opacity: 1;\"/></g></g></g><g class=\"trace bars\" shape-rendering=\"crispEdges\" style=\"opacity: 1;\"><g class=\"points\"><g class=\"point\"><path d=\"M254.75,317.33V296H255.49V317.33Z\" style=\"vector-effect: non-scaling-stroke; opacity: 1; stroke-width: 0.5px; fill: rgb(255, 151, 255); fill-opacity: 1; stroke: rgb(229, 236, 246); stroke-opacity: 1;\"/></g></g></g><g class=\"trace bars\" shape-rendering=\"crispEdges\" style=\"opacity: 1;\"><g class=\"points\"><g class=\"point\"><path d=\"M255.49,317.33V296H255.81V317.33Z\" style=\"vector-effect: non-scaling-stroke; opacity: 1; stroke-width: 0.5px; fill: rgb(254, 203, 82); fill-opacity: 1; stroke: rgb(229, 236, 246); stroke-opacity: 1;\"/></g></g></g><g class=\"trace bars\" shape-rendering=\"crispEdges\" style=\"opacity: 1;\"><g class=\"points\"><g class=\"point\"><path d=\"M255.81,317.33V296H256.66V317.33Z\" style=\"vector-effect: non-scaling-stroke; opacity: 1; stroke-width: 0.5px; fill: rgb(99, 110, 250); fill-opacity: 1; stroke: rgb(229, 236, 246); stroke-opacity: 1;\"/></g></g></g><g class=\"trace bars\" shape-rendering=\"crispEdges\" style=\"opacity: 1;\"><g class=\"points\"><g class=\"point\"><path d=\"M256.66,317.33V296H261.32V317.33Z\" style=\"vector-effect: non-scaling-stroke; opacity: 1; stroke-width: 0.5px; fill: rgb(239, 85, 59); fill-opacity: 1; stroke: rgb(229, 236, 246); stroke-opacity: 1;\"/></g></g></g><g class=\"trace bars\" shape-rendering=\"crispEdges\" style=\"opacity: 1;\"><g class=\"points\"><g class=\"point\"><path d=\"M261.32,317.33V296H264.82V317.33Z\" style=\"vector-effect: non-scaling-stroke; opacity: 1; stroke-width: 0.5px; fill: rgb(0, 204, 150); fill-opacity: 1; stroke: rgb(229, 236, 246); stroke-opacity: 1;\"/></g></g></g><g class=\"trace bars\" shape-rendering=\"crispEdges\" style=\"opacity: 1;\"><g class=\"points\"><g class=\"point\"><path d=\"M264.82,317.33V296H265.03V317.33Z\" style=\"vector-effect: non-scaling-stroke; opacity: 1; stroke-width: 0.5px; fill: rgb(171, 99, 250); fill-opacity: 1; stroke: rgb(229, 236, 246); stroke-opacity: 1;\"/></g></g></g><g class=\"trace bars\" shape-rendering=\"crispEdges\" style=\"opacity: 1;\"><g class=\"points\"><g class=\"point\"><path d=\"M265.03,317.33V296H265.24V317.33Z\" style=\"vector-effect: non-scaling-stroke; opacity: 1; stroke-width: 0.5px; fill: rgb(255, 161, 90); fill-opacity: 1; stroke: rgb(229, 236, 246); stroke-opacity: 1;\"/></g></g></g><g class=\"trace bars\" shape-rendering=\"crispEdges\" style=\"opacity: 1;\"><g class=\"points\"><g class=\"point\"><path d=\"M265.24,317.33V296H265.67V317.33Z\" style=\"vector-effect: non-scaling-stroke; opacity: 1; stroke-width: 0.5px; fill: rgb(25, 211, 243); fill-opacity: 1; stroke: rgb(229, 236, 246); stroke-opacity: 1;\"/></g></g></g><g class=\"trace bars\" shape-rendering=\"crispEdges\" style=\"opacity: 1;\"><g class=\"points\"><g class=\"point\"><path d=\"M265.67,317.33V296H266.09V317.33Z\" style=\"vector-effect: non-scaling-stroke; opacity: 1; stroke-width: 0.5px; fill: rgb(255, 102, 146); fill-opacity: 1; stroke: rgb(229, 236, 246); stroke-opacity: 1;\"/></g></g></g><g class=\"trace bars\" shape-rendering=\"crispEdges\" style=\"opacity: 1;\"><g class=\"points\"><g class=\"point\"><path d=\"M266.09,317.33V296H266.73V317.33Z\" style=\"vector-effect: non-scaling-stroke; opacity: 1; stroke-width: 0.5px; fill: rgb(182, 232, 128); fill-opacity: 1; stroke: rgb(229, 236, 246); stroke-opacity: 1;\"/></g></g></g><g class=\"trace bars\" shape-rendering=\"crispEdges\" style=\"opacity: 1;\"><g class=\"points\"><g class=\"point\"><path d=\"M266.73,317.33V296H273.72V317.33Z\" style=\"vector-effect: non-scaling-stroke; opacity: 1; stroke-width: 0.5px; fill: rgb(255, 151, 255); fill-opacity: 1; stroke: rgb(229, 236, 246); stroke-opacity: 1;\"/></g></g></g><g class=\"trace bars\" shape-rendering=\"crispEdges\" style=\"opacity: 1;\"><g class=\"points\"><g class=\"point\"><path d=\"M273.72,317.33V296H340.8V317.33Z\" style=\"vector-effect: non-scaling-stroke; opacity: 1; stroke-width: 0.5px; fill: rgb(254, 203, 82); fill-opacity: 1; stroke: rgb(229, 236, 246); stroke-opacity: 1;\"/></g></g></g><g class=\"trace bars\" shape-rendering=\"crispEdges\" style=\"opacity: 1;\"><g class=\"points\"><g class=\"point\"><path d=\"M340.8,317.33V296H343.24V317.33Z\" style=\"vector-effect: non-scaling-stroke; opacity: 1; stroke-width: 0.5px; fill: rgb(99, 110, 250); fill-opacity: 1; stroke: rgb(229, 236, 246); stroke-opacity: 1;\"/></g></g></g><g class=\"trace bars\" shape-rendering=\"crispEdges\" style=\"opacity: 1;\"><g class=\"points\"><g class=\"point\"><path d=\"M343.24,317.33V296H343.66V317.33Z\" style=\"vector-effect: non-scaling-stroke; opacity: 1; stroke-width: 0.5px; fill: rgb(239, 85, 59); fill-opacity: 1; stroke: rgb(229, 236, 246); stroke-opacity: 1;\"/></g></g></g><g class=\"trace bars\" shape-rendering=\"crispEdges\" style=\"opacity: 1;\"><g class=\"points\"><g class=\"point\"><path d=\"M343.66,317.33V296H363.16V317.33Z\" style=\"vector-effect: non-scaling-stroke; opacity: 1; stroke-width: 0.5px; fill: rgb(0, 204, 150); fill-opacity: 1; stroke: rgb(229, 236, 246); stroke-opacity: 1;\"/></g></g></g><g class=\"trace bars\" shape-rendering=\"crispEdges\" style=\"opacity: 1;\"><g class=\"points\"><g class=\"point\"><path d=\"M363.16,317.33V296H363.79V317.33Z\" style=\"vector-effect: non-scaling-stroke; opacity: 1; stroke-width: 0.5px; fill: rgb(171, 99, 250); fill-opacity: 1; stroke: rgb(229, 236, 246); stroke-opacity: 1;\"/></g></g></g><g class=\"trace bars\" shape-rendering=\"crispEdges\" style=\"opacity: 1;\"><g class=\"points\"><g class=\"point\"><path d=\"M363.79,317.33V296H380.43V317.33Z\" style=\"vector-effect: non-scaling-stroke; opacity: 1; stroke-width: 0.5px; fill: rgb(255, 161, 90); fill-opacity: 1; stroke: rgb(229, 236, 246); stroke-opacity: 1;\"/></g></g></g><g class=\"trace bars\" shape-rendering=\"crispEdges\" style=\"opacity: 1;\"><g class=\"points\"><g class=\"point\"><path d=\"M380.43,317.33V296H382.34V317.33Z\" style=\"vector-effect: non-scaling-stroke; opacity: 1; stroke-width: 0.5px; fill: rgb(25, 211, 243); fill-opacity: 1; stroke: rgb(229, 236, 246); stroke-opacity: 1;\"/></g></g></g><g class=\"trace bars\" shape-rendering=\"crispEdges\" style=\"opacity: 1;\"><g class=\"points\"><g class=\"point\"><path d=\"M382.34,317.33V296H387.21V317.33Z\" style=\"vector-effect: non-scaling-stroke; opacity: 1; stroke-width: 0.5px; fill: rgb(255, 102, 146); fill-opacity: 1; stroke: rgb(229, 236, 246); stroke-opacity: 1;\"/></g></g></g><g class=\"trace bars\" shape-rendering=\"crispEdges\" style=\"opacity: 1;\"><g class=\"points\"><g class=\"point\"><path d=\"M387.21,317.33V296H387.43V317.33Z\" style=\"vector-effect: non-scaling-stroke; opacity: 1; stroke-width: 0.5px; fill: rgb(182, 232, 128); fill-opacity: 1; stroke: rgb(229, 236, 246); stroke-opacity: 1;\"/></g></g></g><g class=\"trace bars\" shape-rendering=\"crispEdges\" style=\"opacity: 1;\"><g class=\"points\"><g class=\"point\"><path d=\"M387.43,317.33V296H387.53V317.33Z\" style=\"vector-effect: non-scaling-stroke; opacity: 1; stroke-width: 0.5px; fill: rgb(255, 151, 255); fill-opacity: 1; stroke: rgb(229, 236, 246); stroke-opacity: 1;\"/></g></g></g><g class=\"trace bars\" shape-rendering=\"crispEdges\" style=\"opacity: 1;\"><g class=\"points\"><g class=\"point\"><path d=\"M387.53,317.33V296H387.64V317.33Z\" style=\"vector-effect: non-scaling-stroke; opacity: 1; stroke-width: 0.5px; fill: rgb(254, 203, 82); fill-opacity: 1; stroke: rgb(229, 236, 246); stroke-opacity: 1;\"/></g></g></g><g class=\"trace bars\" shape-rendering=\"crispEdges\" style=\"opacity: 1;\"><g class=\"points\"><g class=\"point\"><path d=\"M387.64,317.33V296H388.49V317.33Z\" style=\"vector-effect: non-scaling-stroke; opacity: 1; stroke-width: 0.5px; fill: rgb(99, 110, 250); fill-opacity: 1; stroke: rgb(229, 236, 246); stroke-opacity: 1;\"/></g></g></g><g class=\"trace bars\" shape-rendering=\"crispEdges\" style=\"opacity: 1;\"><g class=\"points\"><g class=\"point\"><path d=\"M388.49,317.33V296H390.39V317.33Z\" style=\"vector-effect: non-scaling-stroke; opacity: 1; stroke-width: 0.5px; fill: rgb(239, 85, 59); fill-opacity: 1; stroke: rgb(229, 236, 246); stroke-opacity: 1;\"/></g></g></g><g class=\"trace bars\" shape-rendering=\"crispEdges\" style=\"opacity: 1;\"><g class=\"points\"><g class=\"point\"><path d=\"M390.39,317.33V296H390.6V317.33Z\" style=\"vector-effect: non-scaling-stroke; opacity: 1; stroke-width: 0.5px; fill: rgb(0, 204, 150); fill-opacity: 1; stroke: rgb(229, 236, 246); stroke-opacity: 1;\"/></g></g></g><g class=\"trace bars\" shape-rendering=\"crispEdges\" style=\"opacity: 1;\"><g class=\"points\"><g class=\"point\"><path d=\"M390.6,317.33V296H394.1V317.33Z\" style=\"vector-effect: non-scaling-stroke; opacity: 1; stroke-width: 0.5px; fill: rgb(171, 99, 250); fill-opacity: 1; stroke: rgb(229, 236, 246); stroke-opacity: 1;\"/></g></g></g><g class=\"trace bars\" shape-rendering=\"crispEdges\" style=\"opacity: 1;\"><g class=\"points\"><g class=\"point\"><path d=\"M394.1,317.33V296H394.21V317.33Z\" style=\"vector-effect: non-scaling-stroke; opacity: 1; stroke-width: 0.5px; fill: rgb(255, 161, 90); fill-opacity: 1; stroke: rgb(229, 236, 246); stroke-opacity: 1;\"/></g></g></g><g class=\"trace bars\" shape-rendering=\"crispEdges\" style=\"opacity: 1;\"><g class=\"points\"><g class=\"point\"><path d=\"M394.21,317.33V296H396.12V317.33Z\" style=\"vector-effect: non-scaling-stroke; opacity: 1; stroke-width: 0.5px; fill: rgb(25, 211, 243); fill-opacity: 1; stroke: rgb(229, 236, 246); stroke-opacity: 1;\"/></g></g></g><g class=\"trace bars\" shape-rendering=\"crispEdges\" style=\"opacity: 1;\"><g class=\"points\"><g class=\"point\"><path d=\"M396.12,317.33V296H396.33V317.33Z\" style=\"vector-effect: non-scaling-stroke; opacity: 1; stroke-width: 0.5px; fill: rgb(255, 102, 146); fill-opacity: 1; stroke: rgb(229, 236, 246); stroke-opacity: 1;\"/></g></g></g><g class=\"trace bars\" shape-rendering=\"crispEdges\" style=\"opacity: 1;\"><g class=\"points\"><g class=\"point\"><path d=\"M396.33,317.33V296H396.43V317.33Z\" style=\"vector-effect: non-scaling-stroke; opacity: 1; stroke-width: 0.5px; fill: rgb(182, 232, 128); fill-opacity: 1; stroke: rgb(229, 236, 246); stroke-opacity: 1;\"/></g></g></g><g class=\"trace bars\" shape-rendering=\"crispEdges\" style=\"opacity: 1;\"><g class=\"points\"><g class=\"point\"><path d=\"M396.43,317.33V296H396.54V317.33Z\" style=\"vector-effect: non-scaling-stroke; opacity: 1; stroke-width: 0.5px; fill: rgb(255, 151, 255); fill-opacity: 1; stroke: rgb(229, 236, 246); stroke-opacity: 1;\"/></g></g></g><g class=\"trace bars\" shape-rendering=\"crispEdges\" style=\"opacity: 1;\"><g class=\"points\"><g class=\"point\"><path d=\"M396.54,317.33V296H396.86V317.33Z\" style=\"vector-effect: non-scaling-stroke; opacity: 1; stroke-width: 0.5px; fill: rgb(254, 203, 82); fill-opacity: 1; stroke: rgb(229, 236, 246); stroke-opacity: 1;\"/></g></g></g><g class=\"trace bars\" shape-rendering=\"crispEdges\" style=\"opacity: 1;\"><g class=\"points\"><g class=\"point\"><path d=\"M396.86,317.33V296H397.6V317.33Z\" style=\"vector-effect: non-scaling-stroke; opacity: 1; stroke-width: 0.5px; fill: rgb(99, 110, 250); fill-opacity: 1; stroke: rgb(229, 236, 246); stroke-opacity: 1;\"/></g></g></g><g class=\"trace bars\" shape-rendering=\"crispEdges\" style=\"opacity: 1;\"><g class=\"points\"><g class=\"point\"><path d=\"M397.6,317.33V296H397.81V317.33Z\" style=\"vector-effect: non-scaling-stroke; opacity: 1; stroke-width: 0.5px; fill: rgb(239, 85, 59); fill-opacity: 1; stroke: rgb(229, 236, 246); stroke-opacity: 1;\"/></g></g></g><g class=\"trace bars\" shape-rendering=\"crispEdges\" style=\"opacity: 1;\"><g class=\"points\"><g class=\"point\"><path d=\"M397.81,317.33V296H397.92V317.33Z\" style=\"vector-effect: non-scaling-stroke; opacity: 1; stroke-width: 0.5px; fill: rgb(0, 204, 150); fill-opacity: 1; stroke: rgb(229, 236, 246); stroke-opacity: 1;\"/></g></g></g><g class=\"trace bars\" shape-rendering=\"crispEdges\" style=\"opacity: 1;\"><g class=\"points\"><g class=\"point\"><path d=\"M397.92,317.33V296H399.19V317.33Z\" style=\"vector-effect: non-scaling-stroke; opacity: 1; stroke-width: 0.5px; fill: rgb(171, 99, 250); fill-opacity: 1; stroke: rgb(229, 236, 246); stroke-opacity: 1;\"/></g></g></g><g class=\"trace bars\" shape-rendering=\"crispEdges\" style=\"opacity: 1;\"><g class=\"points\"><g class=\"point\"><path d=\"M399.19,317.33V296H428.22V317.33Z\" style=\"vector-effect: non-scaling-stroke; opacity: 1; stroke-width: 0.5px; fill: rgb(255, 161, 90); fill-opacity: 1; stroke: rgb(229, 236, 246); stroke-opacity: 1;\"/></g></g></g><g class=\"trace bars\" shape-rendering=\"crispEdges\" style=\"opacity: 1;\"><g class=\"points\"><g class=\"point\"><path d=\"M428.22,317.33V296H474.64V317.33Z\" style=\"vector-effect: non-scaling-stroke; opacity: 1; stroke-width: 0.5px; fill: rgb(25, 211, 243); fill-opacity: 1; stroke: rgb(229, 236, 246); stroke-opacity: 1;\"/></g></g></g><g class=\"trace bars\" shape-rendering=\"crispEdges\" style=\"opacity: 1;\"><g class=\"points\"><g class=\"point\"><path d=\"M474.64,317.33V296H479.51V317.33Z\" style=\"vector-effect: non-scaling-stroke; opacity: 1; stroke-width: 0.5px; fill: rgb(255, 102, 146); fill-opacity: 1; stroke: rgb(229, 236, 246); stroke-opacity: 1;\"/></g></g></g><g class=\"trace bars\" shape-rendering=\"crispEdges\" style=\"opacity: 1;\"><g class=\"points\"><g class=\"point\"><path d=\"M479.51,317.33V296H503.99V317.33Z\" style=\"vector-effect: non-scaling-stroke; opacity: 1; stroke-width: 0.5px; fill: rgb(182, 232, 128); fill-opacity: 1; stroke: rgb(229, 236, 246); stroke-opacity: 1;\"/></g></g></g><g class=\"trace bars\" shape-rendering=\"crispEdges\" style=\"opacity: 1;\"><g class=\"points\"><g class=\"point\"><path d=\"M503.99,317.33V296H505.79V317.33Z\" style=\"vector-effect: non-scaling-stroke; opacity: 1; stroke-width: 0.5px; fill: rgb(255, 151, 255); fill-opacity: 1; stroke: rgb(229, 236, 246); stroke-opacity: 1;\"/></g></g></g><g class=\"trace bars\" shape-rendering=\"crispEdges\" style=\"opacity: 1;\"><g class=\"points\"><g class=\"point\"><path d=\"M505.79,317.33V296H506.11V317.33Z\" style=\"vector-effect: non-scaling-stroke; opacity: 1; stroke-width: 0.5px; fill: rgb(254, 203, 82); fill-opacity: 1; stroke: rgb(229, 236, 246); stroke-opacity: 1;\"/></g></g></g><g class=\"trace bars\" shape-rendering=\"crispEdges\" style=\"opacity: 1;\"><g class=\"points\"><g class=\"point\"><path d=\"M506.11,317.33V296H510.77V317.33Z\" style=\"vector-effect: non-scaling-stroke; opacity: 1; stroke-width: 0.5px; fill: rgb(99, 110, 250); fill-opacity: 1; stroke: rgb(229, 236, 246); stroke-opacity: 1;\"/></g></g></g><g class=\"trace bars\" shape-rendering=\"crispEdges\" style=\"opacity: 1;\"><g class=\"points\"><g class=\"point\"><path d=\"M510.77,317.33V296H511.62V317.33Z\" style=\"vector-effect: non-scaling-stroke; opacity: 1; stroke-width: 0.5px; fill: rgb(239, 85, 59); fill-opacity: 1; stroke: rgb(229, 236, 246); stroke-opacity: 1;\"/></g></g></g><g class=\"trace bars\" shape-rendering=\"crispEdges\" style=\"opacity: 1;\"><g class=\"points\"><g class=\"point\"><path d=\"M511.62,317.33V296H512.26V317.33Z\" style=\"vector-effect: non-scaling-stroke; opacity: 1; stroke-width: 0.5px; fill: rgb(0, 204, 150); fill-opacity: 1; stroke: rgb(229, 236, 246); stroke-opacity: 1;\"/></g></g></g><g class=\"trace bars\" shape-rendering=\"crispEdges\" style=\"opacity: 1;\"><g class=\"points\"><g class=\"point\"><path d=\"M512.26,317.33V296H512.89V317.33Z\" style=\"vector-effect: non-scaling-stroke; opacity: 1; stroke-width: 0.5px; fill: rgb(171, 99, 250); fill-opacity: 1; stroke: rgb(229, 236, 246); stroke-opacity: 1;\"/></g></g></g><g class=\"trace bars\" shape-rendering=\"crispEdges\" style=\"opacity: 1;\"><g class=\"points\"><g class=\"point\"><path d=\"M512.89,317.33V296H513V317.33Z\" style=\"vector-effect: non-scaling-stroke; opacity: 1; stroke-width: 0.5px; fill: rgb(255, 161, 90); fill-opacity: 1; stroke: rgb(229, 236, 246); stroke-opacity: 1;\"/></g></g></g><g class=\"trace bars\" shape-rendering=\"crispEdges\" style=\"opacity: 1;\"><g class=\"points\"><g class=\"point\"><path d=\"M0,290.67V269.33H491.59V290.67Z\" style=\"vector-effect: non-scaling-stroke; opacity: 1; stroke-width: 0.5px; fill: rgb(99, 110, 250); fill-opacity: 1; stroke: rgb(229, 236, 246); stroke-opacity: 1;\"/></g></g></g><g class=\"trace bars\" shape-rendering=\"crispEdges\" style=\"opacity: 1;\"><g class=\"points\"><g class=\"point\"><path d=\"M491.59,290.67V269.33H491.91V290.67Z\" style=\"vector-effect: non-scaling-stroke; opacity: 1; stroke-width: 0.5px; fill: rgb(239, 85, 59); fill-opacity: 1; stroke: rgb(229, 236, 246); stroke-opacity: 1;\"/></g></g></g><g class=\"trace bars\" shape-rendering=\"crispEdges\" style=\"opacity: 1;\"><g class=\"points\"><g class=\"point\"><path d=\"M491.91,290.67V269.33H492.76V290.67Z\" style=\"vector-effect: non-scaling-stroke; opacity: 1; stroke-width: 0.5px; fill: rgb(0, 204, 150); fill-opacity: 1; stroke: rgb(229, 236, 246); stroke-opacity: 1;\"/></g></g></g><g class=\"trace bars\" shape-rendering=\"crispEdges\" style=\"opacity: 1;\"><g class=\"points\"><g class=\"point\"><path d=\"M492.76,290.67V269.33H513V290.67Z\" style=\"vector-effect: non-scaling-stroke; opacity: 1; stroke-width: 0.5px; fill: rgb(171, 99, 250); fill-opacity: 1; stroke: rgb(229, 236, 246); stroke-opacity: 1;\"/></g></g></g><g class=\"trace bars\" shape-rendering=\"crispEdges\" style=\"opacity: 1;\"><g class=\"points\"><g class=\"point\"><path d=\"M0,264V242.67H4.34V264Z\" style=\"vector-effect: non-scaling-stroke; opacity: 1; stroke-width: 0.5px; fill: rgb(99, 110, 250); fill-opacity: 1; stroke: rgb(229, 236, 246); stroke-opacity: 1;\"/></g></g></g><g class=\"trace bars\" shape-rendering=\"crispEdges\" style=\"opacity: 1;\"><g class=\"points\"><g class=\"point\"><path d=\"M4.34,264V242.67H177.29V264Z\" style=\"vector-effect: non-scaling-stroke; opacity: 1; stroke-width: 0.5px; fill: rgb(239, 85, 59); fill-opacity: 1; stroke: rgb(229, 236, 246); stroke-opacity: 1;\"/></g></g></g><g class=\"trace bars\" shape-rendering=\"crispEdges\" style=\"opacity: 1;\"><g class=\"points\"><g class=\"point\"><path d=\"M177.29,264V242.67H252.53V264Z\" style=\"vector-effect: non-scaling-stroke; opacity: 1; stroke-width: 0.5px; fill: rgb(0, 204, 150); fill-opacity: 1; stroke: rgb(229, 236, 246); stroke-opacity: 1;\"/></g></g></g><g class=\"trace bars\" shape-rendering=\"crispEdges\" style=\"opacity: 1;\"><g class=\"points\"><g class=\"point\"><path d=\"M252.53,264V242.67H288.66V264Z\" style=\"vector-effect: non-scaling-stroke; opacity: 1; stroke-width: 0.5px; fill: rgb(171, 99, 250); fill-opacity: 1; stroke: rgb(229, 236, 246); stroke-opacity: 1;\"/></g></g></g><g class=\"trace bars\" shape-rendering=\"crispEdges\" style=\"opacity: 1;\"><g class=\"points\"><g class=\"point\"><path d=\"M288.66,264V242.67H290.57V264Z\" style=\"vector-effect: non-scaling-stroke; opacity: 1; stroke-width: 0.5px; fill: rgb(255, 161, 90); fill-opacity: 1; stroke: rgb(229, 236, 246); stroke-opacity: 1;\"/></g></g></g><g class=\"trace bars\" shape-rendering=\"crispEdges\" style=\"opacity: 1;\"><g class=\"points\"><g class=\"point\"><path d=\"M290.57,264V242.67H415.08V264Z\" style=\"vector-effect: non-scaling-stroke; opacity: 1; stroke-width: 0.5px; fill: rgb(25, 211, 243); fill-opacity: 1; stroke: rgb(229, 236, 246); stroke-opacity: 1;\"/></g></g></g><g class=\"trace bars\" shape-rendering=\"crispEdges\" style=\"opacity: 1;\"><g class=\"points\"><g class=\"point\"><path d=\"M415.08,264V242.67H415.72V264Z\" style=\"vector-effect: non-scaling-stroke; opacity: 1; stroke-width: 0.5px; fill: rgb(255, 102, 146); fill-opacity: 1; stroke: rgb(229, 236, 246); stroke-opacity: 1;\"/></g></g></g><g class=\"trace bars\" shape-rendering=\"crispEdges\" style=\"opacity: 1;\"><g class=\"points\"><g class=\"point\"><path d=\"M415.72,264V242.67H421.23V264Z\" style=\"vector-effect: non-scaling-stroke; opacity: 1; stroke-width: 0.5px; fill: rgb(182, 232, 128); fill-opacity: 1; stroke: rgb(229, 236, 246); stroke-opacity: 1;\"/></g></g></g><g class=\"trace bars\" shape-rendering=\"crispEdges\" style=\"opacity: 1;\"><g class=\"points\"><g class=\"point\"><path d=\"M421.23,264V242.67H456.09V264Z\" style=\"vector-effect: non-scaling-stroke; opacity: 1; stroke-width: 0.5px; fill: rgb(255, 151, 255); fill-opacity: 1; stroke: rgb(229, 236, 246); stroke-opacity: 1;\"/></g></g></g><g class=\"trace bars\" shape-rendering=\"crispEdges\" style=\"opacity: 1;\"><g class=\"points\"><g class=\"point\"><path d=\"M456.09,264V242.67H513V264Z\" style=\"vector-effect: non-scaling-stroke; opacity: 1; stroke-width: 0.5px; fill: rgb(254, 203, 82); fill-opacity: 1; stroke: rgb(229, 236, 246); stroke-opacity: 1;\"/></g></g></g><g class=\"trace bars\" shape-rendering=\"crispEdges\" style=\"opacity: 1;\"><g class=\"points\"><g class=\"point\"><path d=\"M0,237.33V216H4.98V237.33Z\" style=\"vector-effect: non-scaling-stroke; opacity: 1; stroke-width: 0.5px; fill: rgb(99, 110, 250); fill-opacity: 1; stroke: rgb(229, 236, 246); stroke-opacity: 1;\"/></g></g></g><g class=\"trace bars\" shape-rendering=\"crispEdges\" style=\"opacity: 1;\"><g class=\"points\"><g class=\"point\"><path d=\"M4.98,237.33V216H16V237.33Z\" style=\"vector-effect: non-scaling-stroke; opacity: 1; stroke-width: 0.5px; fill: rgb(239, 85, 59); fill-opacity: 1; stroke: rgb(229, 236, 246); stroke-opacity: 1;\"/></g></g></g><g class=\"trace bars\" shape-rendering=\"crispEdges\" style=\"opacity: 1;\"><g class=\"points\"><g class=\"point\"><path d=\"M16,237.33V216H186.19V237.33Z\" style=\"vector-effect: non-scaling-stroke; opacity: 1; stroke-width: 0.5px; fill: rgb(0, 204, 150); fill-opacity: 1; stroke: rgb(229, 236, 246); stroke-opacity: 1;\"/></g></g></g><g class=\"trace bars\" shape-rendering=\"crispEdges\" style=\"opacity: 1;\"><g class=\"points\"><g class=\"point\"><path d=\"M186.19,237.33V216H260.26V237.33Z\" style=\"vector-effect: non-scaling-stroke; opacity: 1; stroke-width: 0.5px; fill: rgb(171, 99, 250); fill-opacity: 1; stroke: rgb(229, 236, 246); stroke-opacity: 1;\"/></g></g></g><g class=\"trace bars\" shape-rendering=\"crispEdges\" style=\"opacity: 1;\"><g class=\"points\"><g class=\"point\"><path d=\"M260.26,237.33V216H383.93V237.33Z\" style=\"vector-effect: non-scaling-stroke; opacity: 1; stroke-width: 0.5px; fill: rgb(255, 161, 90); fill-opacity: 1; stroke: rgb(229, 236, 246); stroke-opacity: 1;\"/></g></g></g><g class=\"trace bars\" shape-rendering=\"crispEdges\" style=\"opacity: 1;\"><g class=\"points\"><g class=\"point\"><path d=\"M383.93,237.33V216H396.33V237.33Z\" style=\"vector-effect: non-scaling-stroke; opacity: 1; stroke-width: 0.5px; fill: rgb(25, 211, 243); fill-opacity: 1; stroke: rgb(229, 236, 246); stroke-opacity: 1;\"/></g></g></g><g class=\"trace bars\" shape-rendering=\"crispEdges\" style=\"opacity: 1;\"><g class=\"points\"><g class=\"point\"><path d=\"M396.33,237.33V216H508.34V237.33Z\" style=\"vector-effect: non-scaling-stroke; opacity: 1; stroke-width: 0.5px; fill: rgb(255, 102, 146); fill-opacity: 1; stroke: rgb(229, 236, 246); stroke-opacity: 1;\"/></g></g></g><g class=\"trace bars\" shape-rendering=\"crispEdges\" style=\"opacity: 1;\"><g class=\"points\"><g class=\"point\"><path d=\"M508.34,237.33V216H513V237.33Z\" style=\"vector-effect: non-scaling-stroke; opacity: 1; stroke-width: 0.5px; fill: rgb(182, 232, 128); fill-opacity: 1; stroke: rgb(229, 236, 246); stroke-opacity: 1;\"/></g></g></g><g class=\"trace bars\" shape-rendering=\"crispEdges\" style=\"opacity: 1;\"><g class=\"points\"><g class=\"point\"><path d=\"M0,210.67V189.33H231.01V210.67Z\" style=\"vector-effect: non-scaling-stroke; opacity: 1; stroke-width: 0.5px; fill: rgb(99, 110, 250); fill-opacity: 1; stroke: rgb(229, 236, 246); stroke-opacity: 1;\"/></g></g></g><g class=\"trace bars\" shape-rendering=\"crispEdges\" style=\"opacity: 1;\"><g class=\"points\"><g class=\"point\"><path d=\"M231.01,210.67V189.33H513V210.67Z\" style=\"vector-effect: non-scaling-stroke; opacity: 1; stroke-width: 0.5px; fill: rgb(239, 85, 59); fill-opacity: 1; stroke: rgb(229, 236, 246); stroke-opacity: 1;\"/></g></g></g><g class=\"trace bars\" shape-rendering=\"crispEdges\" style=\"opacity: 1;\"><g class=\"points\"><g class=\"point\"><path d=\"M0,184V162.67H106.29V184Z\" style=\"vector-effect: non-scaling-stroke; opacity: 1; stroke-width: 0.5px; fill: rgb(99, 110, 250); fill-opacity: 1; stroke: rgb(229, 236, 246); stroke-opacity: 1;\"/></g></g></g><g class=\"trace bars\" shape-rendering=\"crispEdges\" style=\"opacity: 1;\"><g class=\"points\"><g class=\"point\"><path d=\"M106.29,184V162.67H513V184Z\" style=\"vector-effect: non-scaling-stroke; opacity: 1; stroke-width: 0.5px; fill: rgb(239, 85, 59); fill-opacity: 1; stroke: rgb(229, 236, 246); stroke-opacity: 1;\"/></g></g></g><g class=\"trace bars\" shape-rendering=\"crispEdges\" style=\"opacity: 1;\"><g class=\"points\"><g class=\"point\"><path d=\"M0,157.33V136H409.36V157.33Z\" style=\"vector-effect: non-scaling-stroke; opacity: 1; stroke-width: 0.5px; fill: rgb(99, 110, 250); fill-opacity: 1; stroke: rgb(229, 236, 246); stroke-opacity: 1;\"/></g></g></g><g class=\"trace bars\" shape-rendering=\"crispEdges\" style=\"opacity: 1;\"><g class=\"points\"><g class=\"point\"><path d=\"M409.36,157.33V136H513V157.33Z\" style=\"vector-effect: non-scaling-stroke; opacity: 1; stroke-width: 0.5px; fill: rgb(239, 85, 59); fill-opacity: 1; stroke: rgb(229, 236, 246); stroke-opacity: 1;\"/></g></g></g><g class=\"trace bars\" shape-rendering=\"crispEdges\" style=\"opacity: 1;\"><g class=\"points\"><g class=\"point\"><path d=\"M0,130.67V109.33H411.16V130.67Z\" style=\"vector-effect: non-scaling-stroke; opacity: 1; stroke-width: 0.5px; fill: rgb(99, 110, 250); fill-opacity: 1; stroke: rgb(229, 236, 246); stroke-opacity: 1;\"/></g></g></g><g class=\"trace bars\" shape-rendering=\"crispEdges\" style=\"opacity: 1;\"><g class=\"points\"><g class=\"point\"><path d=\"M411.16,130.67V109.33H513V130.67Z\" style=\"vector-effect: non-scaling-stroke; opacity: 1; stroke-width: 0.5px; fill: rgb(239, 85, 59); fill-opacity: 1; stroke: rgb(229, 236, 246); stroke-opacity: 1;\"/></g></g></g><g class=\"trace bars\" shape-rendering=\"crispEdges\" style=\"opacity: 1;\"><g class=\"points\"><g class=\"point\"><path d=\"M0,104V82.67H276.69V104Z\" style=\"vector-effect: non-scaling-stroke; opacity: 1; stroke-width: 0.5px; fill: rgb(99, 110, 250); fill-opacity: 1; stroke: rgb(229, 236, 246); stroke-opacity: 1;\"/></g></g></g><g class=\"trace bars\" shape-rendering=\"crispEdges\" style=\"opacity: 1;\"><g class=\"points\"><g class=\"point\"><path d=\"M276.69,104V82.67H513V104Z\" style=\"vector-effect: non-scaling-stroke; opacity: 1; stroke-width: 0.5px; fill: rgb(239, 85, 59); fill-opacity: 1; stroke: rgb(229, 236, 246); stroke-opacity: 1;\"/></g></g></g><g class=\"trace bars\" shape-rendering=\"crispEdges\" style=\"opacity: 1;\"><g class=\"points\"><g class=\"point\"><path d=\"M0,77.33V56H389.12V77.33Z\" style=\"vector-effect: non-scaling-stroke; opacity: 1; stroke-width: 0.5px; fill: rgb(99, 110, 250); fill-opacity: 1; stroke: rgb(229, 236, 246); stroke-opacity: 1;\"/></g></g></g><g class=\"trace bars\" shape-rendering=\"crispEdges\" style=\"opacity: 1;\"><g class=\"points\"><g class=\"point\"><path d=\"M389.12,77.33V56H513V77.33Z\" style=\"vector-effect: non-scaling-stroke; opacity: 1; stroke-width: 0.5px; fill: rgb(239, 85, 59); fill-opacity: 1; stroke: rgb(229, 236, 246); stroke-opacity: 1;\"/></g></g></g><g class=\"trace bars\" shape-rendering=\"crispEdges\" style=\"opacity: 1;\"><g class=\"points\"><g class=\"point\"><path d=\"M0,50.67V29.33H34.76V50.67Z\" style=\"vector-effect: non-scaling-stroke; opacity: 1; stroke-width: 0.5px; fill: rgb(99, 110, 250); fill-opacity: 1; stroke: rgb(229, 236, 246); stroke-opacity: 1;\"/></g></g></g><g class=\"trace bars\" shape-rendering=\"crispEdges\" style=\"opacity: 1;\"><g class=\"points\"><g class=\"point\"><path d=\"M34.76,50.67V29.33H513V50.67Z\" style=\"vector-effect: non-scaling-stroke; opacity: 1; stroke-width: 0.5px; fill: rgb(239, 85, 59); fill-opacity: 1; stroke: rgb(229, 236, 246); stroke-opacity: 1;\"/></g></g></g><g class=\"trace bars\" shape-rendering=\"crispEdges\" style=\"opacity: 1;\"><g class=\"points\"><g class=\"point\"><path d=\"M0,24V2.67H235.46V24Z\" style=\"vector-effect: non-scaling-stroke; opacity: 1; stroke-width: 0.5px; fill: rgb(99, 110, 250); fill-opacity: 1; stroke: rgb(229, 236, 246); stroke-opacity: 1;\"/></g></g></g><g class=\"trace bars\" shape-rendering=\"crispEdges\" style=\"opacity: 1;\"><g class=\"points\"><g class=\"point\"><path d=\"M235.46,24V2.67H513V24Z\" style=\"vector-effect: non-scaling-stroke; opacity: 1; stroke-width: 0.5px; fill: rgb(239, 85, 59); fill-opacity: 1; stroke: rgb(229, 236, 246); stroke-opacity: 1;\"/></g></g></g></g></g><g class=\"overplot\"/><path class=\"xlines-above crisp\" d=\"M0,0\" style=\"fill: none;\"/><path class=\"ylines-above crisp\" d=\"M0,0\" style=\"fill: none;\"/><g class=\"overlines-above\"/><g class=\"xaxislayer-above\"><g class=\"xtick\"><text text-anchor=\"middle\" x=\"0\" y=\"433\" transform=\"translate(80,0)\" style=\"font-family: 'Open Sans', verdana, arial, sans-serif; font-size: 12px; fill: rgb(42, 63, 95); fill-opacity: 1; white-space: pre; opacity: 1;\">0</text></g><g class=\"xtick\"><text text-anchor=\"middle\" x=\"0\" y=\"433\" style=\"font-family: 'Open Sans', verdana, arial, sans-serif; font-size: 12px; fill: rgb(42, 63, 95); fill-opacity: 1; white-space: pre; opacity: 1;\" transform=\"translate(185.97,0)\">1000</text></g><g class=\"xtick\"><text text-anchor=\"middle\" x=\"0\" y=\"433\" style=\"font-family: 'Open Sans', verdana, arial, sans-serif; font-size: 12px; fill: rgb(42, 63, 95); fill-opacity: 1; white-space: pre; opacity: 1;\" transform=\"translate(291.94,0)\">2000</text></g><g class=\"xtick\"><text text-anchor=\"middle\" x=\"0\" y=\"433\" style=\"font-family: 'Open Sans', verdana, arial, sans-serif; font-size: 12px; fill: rgb(42, 63, 95); fill-opacity: 1; white-space: pre; opacity: 1;\" transform=\"translate(397.91,0)\">3000</text></g><g class=\"xtick\"><text text-anchor=\"middle\" x=\"0\" y=\"433\" style=\"font-family: 'Open Sans', verdana, arial, sans-serif; font-size: 12px; fill: rgb(42, 63, 95); fill-opacity: 1; white-space: pre; opacity: 1;\" transform=\"translate(503.88,0)\">4000</text></g><g class=\"xtick\"><text text-anchor=\"middle\" x=\"0\" y=\"433\" style=\"font-family: 'Open Sans', verdana, arial, sans-serif; font-size: 12px; fill: rgb(42, 63, 95); fill-opacity: 1; white-space: pre; opacity: 1;\" transform=\"translate(609.85,0)\">5000</text></g></g><g class=\"yaxislayer-above\"><g class=\"ytick\"><text text-anchor=\"end\" x=\"79\" y=\"4.199999999999999\" transform=\"translate(0,406.67)\" style=\"font-family: 'Open Sans', verdana, arial, sans-serif; font-size: 12px; fill: rgb(42, 63, 95); fill-opacity: 1; white-space: pre; opacity: 1;\">model_key</text></g><g class=\"ytick\"><text text-anchor=\"end\" x=\"79\" y=\"4.199999999999999\" transform=\"translate(0,380)\" style=\"font-family: 'Open Sans', verdana, arial, sans-serif; font-size: 12px; fill: rgb(42, 63, 95); fill-opacity: 1; white-space: pre; opacity: 1;\">fuel</text></g><g class=\"ytick\"><text text-anchor=\"end\" x=\"79\" y=\"4.199999999999999\" transform=\"translate(0,353.33000000000004)\" style=\"font-family: 'Open Sans', verdana, arial, sans-serif; font-size: 12px; fill: rgb(42, 63, 95); fill-opacity: 1; white-space: pre; opacity: 1;\">paint_color</text></g><g class=\"ytick\"><text text-anchor=\"end\" x=\"79\" y=\"4.199999999999999\" transform=\"translate(0,326.66999999999996)\" style=\"font-family: 'Open Sans', verdana, arial, sans-serif; font-size: 12px; fill: rgb(42, 63, 95); fill-opacity: 1; white-space: pre; opacity: 1;\">car_type</text></g><g class=\"ytick\"><text text-anchor=\"end\" x=\"79\" y=\"4.199999999999999\" transform=\"translate(0,300)\" style=\"font-family: 'Open Sans', verdana, arial, sans-serif; font-size: 12px; fill: rgb(42, 63, 95); fill-opacity: 1; white-space: pre; opacity: 1;\">feature_1</text></g><g class=\"ytick\"><text text-anchor=\"end\" x=\"79\" y=\"4.199999999999999\" transform=\"translate(0,273.33000000000004)\" style=\"font-family: 'Open Sans', verdana, arial, sans-serif; font-size: 12px; fill: rgb(42, 63, 95); fill-opacity: 1; white-space: pre; opacity: 1;\">feature_2</text></g><g class=\"ytick\"><text text-anchor=\"end\" x=\"79\" y=\"4.199999999999999\" transform=\"translate(0,246.67)\" style=\"font-family: 'Open Sans', verdana, arial, sans-serif; font-size: 12px; fill: rgb(42, 63, 95); fill-opacity: 1; white-space: pre; opacity: 1;\">feature_3</text></g><g class=\"ytick\"><text text-anchor=\"end\" x=\"79\" y=\"4.199999999999999\" transform=\"translate(0,220)\" style=\"font-family: 'Open Sans', verdana, arial, sans-serif; font-size: 12px; fill: rgb(42, 63, 95); fill-opacity: 1; white-space: pre; opacity: 1;\">feature_4</text></g><g class=\"ytick\"><text text-anchor=\"end\" x=\"79\" y=\"4.199999999999999\" transform=\"translate(0,193.32999999999998)\" style=\"font-family: 'Open Sans', verdana, arial, sans-serif; font-size: 12px; fill: rgb(42, 63, 95); fill-opacity: 1; white-space: pre; opacity: 1;\">feature_5</text></g><g class=\"ytick\"><text text-anchor=\"end\" x=\"79\" y=\"4.199999999999999\" transform=\"translate(0,166.67000000000002)\" style=\"font-family: 'Open Sans', verdana, arial, sans-serif; font-size: 12px; fill: rgb(42, 63, 95); fill-opacity: 1; white-space: pre; opacity: 1;\">feature_6</text></g><g class=\"ytick\"><text text-anchor=\"end\" x=\"79\" y=\"4.199999999999999\" transform=\"translate(0,140)\" style=\"font-family: 'Open Sans', verdana, arial, sans-serif; font-size: 12px; fill: rgb(42, 63, 95); fill-opacity: 1; white-space: pre; opacity: 1;\">feature_7</text></g><g class=\"ytick\"><text text-anchor=\"end\" x=\"79\" y=\"4.199999999999999\" transform=\"translate(0,113.33)\" style=\"font-family: 'Open Sans', verdana, arial, sans-serif; font-size: 12px; fill: rgb(42, 63, 95); fill-opacity: 1; white-space: pre; opacity: 1;\">feature_8</text></g></g><g class=\"overaxes-above\"/></g></g><g class=\"polarlayer\"/><g class=\"smithlayer\"/><g class=\"ternarylayer\"/><g class=\"geolayer\"/><g class=\"funnelarealayer\"/><g class=\"pielayer\"/><g class=\"iciclelayer\"/><g class=\"treemaplayer\"/><g class=\"sunburstlayer\"/><g class=\"glimages\"/><defs id=\"topdefs-300eb9\"><g class=\"clips\"/></defs><g class=\"layer-above\"><g class=\"imagelayer\"/><g class=\"shapelayer\"/></g><g class=\"infolayer\"><g class=\"g-gtitle\"><text class=\"gtitle\" x=\"35\" y=\"50\" text-anchor=\"start\" dy=\"0em\" style=\"font-family: 'Open Sans', verdana, arial, sans-serif; font-size: 17px; fill: rgb(42, 63, 95); opacity: 1; font-weight: normal; white-space: pre;\">Categorical Variables Cardinality</text></g><g class=\"g-xtitle\"/><g class=\"g-ytitle\"/></g></svg>"
     },
     "metadata": {},
     "output_type": "display_data"
    }
   ],
   "source": [
    "fig = go.Figure()\n",
    "for col in cat_var:\n",
    "    counted_df = car_price_df.groupby(col).size().to_frame(col).T\n",
    "    bar_plot = px.bar(counted_df, orientation='h')\n",
    "    for category in bar_plot.data:\n",
    "        fig.add_trace(category)\n",
    "fig.update_layout(showlegend=False, barmode='stack', title='Categorical Variables Cardinality')\n",
    "fig.show(renderer=\"svg\")"
   ]
  },
  {
   "cell_type": "code",
   "execution_count": 12,
   "metadata": {},
   "outputs": [
    {
     "name": "stdout",
     "output_type": "stream",
     "text": [
      "black     1632\n",
      "grey      1175\n",
      "blue       710\n",
      "white      537\n",
      "brown      341\n",
      "silver     329\n",
      "red         52\n",
      "beige       41\n",
      "green       18\n",
      "orange       6\n",
      "Name: paint_color, dtype: int64\n"
     ]
    }
   ],
   "source": [
    "# Decisions to make on Categorical Variables\n",
    "# count car colors\n",
    "print(car_price_df.paint_color.value_counts())\n",
    "# Merge minority colors\n",
    "minority_colors = ['red','beige','green','orange'] # ['green','orange'] #\n",
    "car_price_df.loc[:, \"paint_color\"] = np.where(\n",
    "    car_price_df.paint_color.isin(minority_colors), 'other', car_price_df.paint_color\n",
    ")"
   ]
  },
  {
   "cell_type": "code",
   "execution_count": 13,
   "metadata": {},
   "outputs": [
    {
     "name": "stdout",
     "output_type": "stream",
     "text": [
      "diesel           4639\n",
      "petrol            191\n",
      "hybrid_petrol       8\n",
      "electro             3\n",
      "Name: fuel, dtype: int64\n"
     ]
    }
   ],
   "source": [
    "# count fuel\n",
    "print(car_price_df.fuel.value_counts())\n",
    "\n",
    "# drop hybrids and electrics\n",
    "car_price_df.drop(car_price_df[car_price_df.fuel.isin(['hybrid_petrol','electro'])].index, inplace=True)"
   ]
  },
  {
   "cell_type": "code",
   "execution_count": 14,
   "metadata": {},
   "outputs": [
    {
     "name": "stdout",
     "output_type": "stream",
     "text": [
      "72\n",
      "300 series    1807\n",
      "500 series    1152\n",
      "100 series     564\n",
      "X3 series      438\n",
      "X1 series      274\n",
      "X5 series      249\n",
      "400 series     111\n",
      "200 series      54\n",
      "700 series      54\n",
      "X6 series       51\n",
      "X4 series       46\n",
      "600 series      30\n",
      "Name: model_key, dtype: int64\n",
      "12\n"
     ]
    }
   ],
   "source": [
    "# count model keys\n",
    "# print(car_price_df.model_key.value_counts())\n",
    "print(len(car_price_df.model_key.unique()))\n",
    "\n",
    "# group model keys by series\n",
    "for i in range(1, 8):\n",
    "    model_mask = (\n",
    "        car_price_df.model_key.str.startswith(f\"{i}\") |\n",
    "        car_price_df.model_key.str.startswith(f\"M{i}\") |\n",
    "        car_price_df.model_key.str.startswith(f\"Z{i}\")\n",
    "    )\n",
    "    car_price_df.loc[model_mask, \"model_key\"] = f\"{i}00 series\"\n",
    "    car_price_df.loc[car_price_df.model_key.str.startswith(f\"X{i}\"), \"model_key\"] = f\"X{i} series\"\n",
    "\n",
    "print(car_price_df.model_key.value_counts())\n",
    "print(len(car_price_df.model_key.unique()))"
   ]
  },
  {
   "cell_type": "code",
   "execution_count": 15,
   "metadata": {},
   "outputs": [],
   "source": [
    "# matrix of features\n",
    "feature_df = car_price_df[cat_var + num_var]\n",
    "y = car_price_df[target].values.reshape(-1)\n",
    "\n",
    "n_cat = len(cat_var)\n",
    "n_num = len(num_var)\n",
    "\n",
    "numerical_columns_selector = make_column_selector(dtype_include=\"int64\")\n",
    "categorical_columns_selector = make_column_selector(dtype_exclude=\"int64\")\n",
    "\n",
    "numerical_columns = numerical_columns_selector(feature_df)\n",
    "categorical_columns = categorical_columns_selector(feature_df)"
   ]
  },
  {
   "cell_type": "code",
   "execution_count": 16,
   "metadata": {},
   "outputs": [],
   "source": [
    "dummy_regressor = DummyRegressor(strategy=\"median\")\n",
    "\n",
    "# save pipeline diagram in html file\n",
    "with open('/workspaces/data_challenge/presentation/imgs/dummy_regressor.html', 'w') as f:\n",
    "    f.write(estimator_html_repr(dummy_regressor))\n",
    "\n",
    "cv_sfold = KFold(n_splits=5, shuffle=True, random_state=42)\n",
    "\n",
    "dummy_result = cross_validate(\n",
    "    dummy_regressor,\n",
    "    feature_df,\n",
    "    y,\n",
    "    cv=cv_sfold,\n",
    "    scoring=[\n",
    "        \"r2\",\n",
    "        \"neg_mean_absolute_percentage_error\",\n",
    "    ],\n",
    ")"
   ]
  },
  {
   "cell_type": "code",
   "execution_count": 17,
   "metadata": {},
   "outputs": [],
   "source": [
    "categorical_preprocessor = OneHotEncoder(handle_unknown=\"ignore\")\n",
    "numerical_preprocessor = StandardScaler()\n",
    "\n",
    "ridge_preprocessor = ColumnTransformer([\n",
    "    ('one-hot-encoder', categorical_preprocessor, categorical_columns),\n",
    "    ('standard_scaler', numerical_preprocessor, numerical_columns)\n",
    "])"
   ]
  },
  {
   "cell_type": "code",
   "execution_count": 18,
   "metadata": {},
   "outputs": [],
   "source": [
    "lin_ridge_model = Pipeline([\n",
    "    (\"preprocessor\", ridge_preprocessor),\n",
    "    (\"ridge_reg\", Ridge()),\n",
    "])\n",
    "\n",
    "# save pipeline diagram in html file\n",
    "with open('/workspaces/data_challenge/presentation/imgs/ridge_regressor.html', 'w') as f:\n",
    "    f.write(estimator_html_repr(lin_ridge_model))\n",
    "\n",
    "lin_ridge_result = cross_validate(\n",
    "    lin_ridge_model,\n",
    "    feature_df,\n",
    "    y,\n",
    "    cv=cv_sfold,\n",
    "    scoring=[\n",
    "        \"r2\",\n",
    "        \"neg_mean_absolute_percentage_error\",\n",
    "    ],\n",
    ")"
   ]
  },
  {
   "cell_type": "code",
   "execution_count": 19,
   "metadata": {},
   "outputs": [],
   "source": [
    "set_unknown_value = np.nan\n",
    "\n",
    "ordinal_encoder = make_column_transformer(\n",
    "    (\n",
    "        OrdinalEncoder(handle_unknown=\"use_encoded_value\", unknown_value=set_unknown_value),\n",
    "        categorical_columns_selector,\n",
    "    ),\n",
    "    remainder=\"passthrough\",\n",
    ")"
   ]
  },
  {
   "cell_type": "code",
   "execution_count": 20,
   "metadata": {},
   "outputs": [],
   "source": [
    "rand_forest = Pipeline([\n",
    "    (\"preprocessor\", ordinal_encoder),\n",
    "    (\"regressor\", RandomForestRegressor(\n",
    "        n_jobs=2,\n",
    "        # random_state=42,\n",
    "    )),\n",
    "])\n",
    "\n",
    "# save pipeline diagram in html file\n",
    "with open('/workspaces/data_challenge/presentation/imgs/rnd_for_regressor.html', 'w') as f:\n",
    "    f.write(estimator_html_repr(rand_forest))\n",
    "\n",
    "rnd_for_result = cross_validate(\n",
    "    rand_forest,\n",
    "    feature_df,\n",
    "    y,\n",
    "    cv=cv_sfold,\n",
    "    scoring=[\n",
    "        \"r2\",\n",
    "        \"neg_mean_absolute_percentage_error\",\n",
    "    ],\n",
    "    return_train_score=True,\n",
    "    return_estimator=True,\n",
    ")"
   ]
  },
  {
   "cell_type": "code",
   "execution_count": 21,
   "metadata": {},
   "outputs": [],
   "source": [
    "grad_boost = Pipeline([\n",
    "    (\"preprocessor\", ordinal_encoder),\n",
    "    (\"regressor\", GradientBoostingRegressor()), # random_state=42)),\n",
    "])\n",
    "\n",
    "grad_boost_result = cross_validate(\n",
    "    grad_boost,\n",
    "    feature_df,\n",
    "    y,\n",
    "    cv=cv_sfold,\n",
    "    scoring=[\n",
    "        \"r2\",\n",
    "        \"neg_mean_absolute_percentage_error\",\n",
    "    ],\n",
    ")"
   ]
  },
  {
   "cell_type": "code",
   "execution_count": 22,
   "metadata": {},
   "outputs": [],
   "source": [
    "# The ordinal encoder will first output the categorical features, and then the\n",
    "# continuous (passed-through) features\n",
    "categorical_mask = [True] * n_cat + [False] * n_num\n",
    "\n",
    "hist_native = Pipeline([\n",
    "    (\"preprocessor\", ordinal_encoder),\n",
    "    (\"regressor\", HistGradientBoostingRegressor(\n",
    "        # random_state=42,\n",
    "        categorical_features=categorical_mask,\n",
    "    )),\n",
    "])\n",
    "\n",
    "hist_native_result = cross_validate(\n",
    "    hist_native,\n",
    "    feature_df,\n",
    "    y,\n",
    "    cv=cv_sfold,\n",
    "    scoring=\"neg_mean_absolute_percentage_error\",\n",
    ")"
   ]
  },
  {
   "cell_type": "code",
   "execution_count": 23,
   "metadata": {},
   "outputs": [
    {
     "data": {
      "text/plain": [
       "Text(0, 0.5, 'R2 score')"
      ]
     },
     "execution_count": 23,
     "metadata": {},
     "output_type": "execute_result"
    },
    {
     "data": {
      "image/png": "[encoded data removed]",
      "text/plain": [
       "<Figure size 720x432 with 1 Axes>"
      ]
     },
     "metadata": {
      "needs_background": "light"
     },
     "output_type": "display_data"
    }
   ],
   "source": [
    "fig, ax = plt.subplots(1, 1, figsize=(10, 6))\n",
    "x, width = np.arange(4), 0.9\n",
    "\n",
    "items = [\n",
    "    dummy_result[\"test_r2\"],\n",
    "    lin_ridge_result[\"test_r2\"],\n",
    "    rnd_for_result[\"test_r2\"],\n",
    "    grad_boost_result[\"test_r2\"],\n",
    "    # hist_native_result[\"test_score\"],\n",
    "]\n",
    "\n",
    "cv_mean = [np.mean(np.abs(item)) for item in items]\n",
    "cv_std = [np.std(item) for item in items]\n",
    "\n",
    "ax.bar(\n",
    "    x=x,\n",
    "    height=cv_mean,\n",
    "    width=width,\n",
    "    yerr=cv_std,\n",
    "    color=[\"C0\", \"C1\", \"C2\", \"C3\"],\n",
    ")\n",
    "ax.set(\n",
    "    # xlabel=\"Model\",\n",
    "    # ylabel=\"Mean Absolute Error [%]\",\n",
    "    # title=\"Mean Absolute Error [%]\",\n",
    "    xticks=x,\n",
    "    xticklabels=[\"Dummy\", \"Linear Ridge\", \"Rand. Forest\", \"Grad. Boost\"],\n",
    ")\n",
    "fig.suptitle(\"Regression Models - Baseline Performance\", size=14)\n",
    "plt.xticks(fontsize=12)\n",
    "plt.yticks(fontsize=12)\n",
    "ax.set_ylabel(\"R2 score\", fontsize=12)"
   ]
  },
  {
   "cell_type": "code",
   "execution_count": 24,
   "metadata": {},
   "outputs": [
    {
     "data": {
      "text/plain": [
       "Text(0, 0.5, 'Mean Absolute Error [%]')"
      ]
     },
     "execution_count": 24,
     "metadata": {},
     "output_type": "execute_result"
    },
    {
     "data": {
      "image/png": "[encoded data removed]",
      "text/plain": [
       "<Figure size 720x432 with 1 Axes>"
      ]
     },
     "metadata": {
      "needs_background": "light"
     },
     "output_type": "display_data"
    }
   ],
   "source": [
    "fig, ax = plt.subplots(1, 1, figsize=(10, 6))\n",
    "x, width = np.arange(4), 0.9\n",
    "\n",
    "items = [\n",
    "    dummy_result[\"test_neg_mean_absolute_percentage_error\"],\n",
    "    lin_ridge_result[\"test_neg_mean_absolute_percentage_error\"],\n",
    "    rnd_for_result[\"test_neg_mean_absolute_percentage_error\"],\n",
    "    grad_boost_result[\"test_neg_mean_absolute_percentage_error\"],\n",
    "    # hist_native_result[\"test_score\"],\n",
    "]\n",
    "\n",
    "cv_mean = [np.mean(np.abs(item))*100 for item in items]\n",
    "cv_std = [np.std(item)*100 for item in items]\n",
    "\n",
    "ax.bar(\n",
    "    x=x,\n",
    "    height=cv_mean,\n",
    "    width=width,\n",
    "    yerr=cv_std,\n",
    "    color=[\"C0\", \"C1\", \"C2\", \"C3\"],\n",
    ")\n",
    "ax.set(\n",
    "    # xlabel=\"Model\",\n",
    "    # ylabel=\"Mean Absolute Error [%]\",\n",
    "    # title=\"Mean Absolute Error [%]\",\n",
    "    xticks=x,\n",
    "    xticklabels=[\"Dummy\", \"Linear Ridge\", \"Rand. Forest\", \"Grad. Boost\"],\n",
    ")\n",
    "fig.suptitle(\"Regression Models - Baseline Performance\", size=14)\n",
    "plt.xticks(fontsize=12)\n",
    "plt.yticks(fontsize=12)\n",
    "ax.set_ylabel(\"Mean Absolute Error [%]\", fontsize=12)"
   ]
  },
  {
   "cell_type": "code",
   "execution_count": 25,
   "metadata": {},
   "outputs": [],
   "source": [
    "lin_ridge_alphas = np.logspace(-2, 1, num=30)\n",
    "\n",
    "# Declare the inner and outer cross-validation strategies\n",
    "# inner_cv = KFold(n_splits=3, shuffle=True, random_state=42)\n",
    "# outer_cv = KFold(n_splits=3, shuffle=True, random_state=42)\n",
    "inner_cv = cv_sfold\n",
    "outer_cv = cv_sfold\n",
    "\n",
    "lin_ridge_cv = Pipeline([\n",
    "    (\"preprocessor\", ridge_preprocessor),\n",
    "    (\"ridge_cv\", RidgeCV(\n",
    "        alphas=lin_ridge_alphas,\n",
    "        # store_cv_values=True,\n",
    "        cv=inner_cv,\n",
    "        scoring=\"neg_mean_absolute_error\",\n",
    "    )),\n",
    "])"
   ]
  },
  {
   "cell_type": "code",
   "execution_count": 26,
   "metadata": {},
   "outputs": [],
   "source": [
    "cv_results_lin_ridge = cross_validate(\n",
    "    lin_ridge_cv,\n",
    "    feature_df,\n",
    "    y,\n",
    "    cv=outer_cv,\n",
    "    scoring=[\n",
    "        \"r2\",\n",
    "        \"neg_mean_absolute_percentage_error\",\n",
    "        \"neg_mean_squared_error\",\n",
    "        \"neg_root_mean_squared_error\",\n",
    "        \"neg_mean_absolute_error\",\n",
    "        \"neg_median_absolute_error\",\n",
    "    ],\n",
    "    return_train_score=True,\n",
    "    return_estimator=True,\n",
    "    n_jobs=2\n",
    ")"
   ]
  },
  {
   "cell_type": "code",
   "execution_count": 27,
   "metadata": {},
   "outputs": [],
   "source": [
    "param_distributions_rand_forest = {\n",
    "    \"regressor__n_estimators\": [1, 2, 5, 10, 20, 50, 100, 200, 500],\n",
    "    \"regressor__max_leaf_nodes\": [2, 5, 10, 20, 50, 100],\n",
    "}\n",
    "\n",
    "rand_forest_search_cv = RandomizedSearchCV(\n",
    "    rand_forest,\n",
    "    param_distributions=param_distributions_rand_forest,\n",
    "    scoring=\"neg_mean_absolute_error\",\n",
    "    n_iter=40,\n",
    "    cv=inner_cv,\n",
    "    n_jobs=2,\n",
    "    verbose=1,\n",
    "    # random_state=42,\n",
    ")"
   ]
  },
  {
   "cell_type": "code",
   "execution_count": 28,
   "metadata": {},
   "outputs": [
    {
     "name": "stdout",
     "output_type": "stream",
     "text": [
      "Fitting 5 folds for each of 40 candidates, totalling 200 fits\n",
      "Fitting 5 folds for each of 40 candidates, totalling 200 fits\n",
      "Fitting 5 folds for each of 40 candidates, totalling 200 fits\n",
      "Fitting 5 folds for each of 40 candidates, totalling 200 fits\n",
      "Fitting 5 folds for each of 40 candidates, totalling 200 fits\n"
     ]
    }
   ],
   "source": [
    "cv_results_rand_forest = cross_validate(\n",
    "    rand_forest_search_cv,\n",
    "    feature_df,\n",
    "    y,\n",
    "    cv=outer_cv,\n",
    "    scoring=[\n",
    "        \"r2\",\n",
    "        \"neg_mean_absolute_error\",\n",
    "        \"neg_mean_absolute_percentage_error\",\n",
    "    ],\n",
    "    return_train_score=True,\n",
    "    return_estimator=True,\n",
    "    n_jobs=2\n",
    ")"
   ]
  },
  {
   "cell_type": "code",
   "execution_count": 29,
   "metadata": {},
   "outputs": [],
   "source": [
    "param_distributions_grad_boost = {\n",
    "    \"regressor__n_estimators\": [1, 2, 5, 10, 20, 50, 100, 200, 500],\n",
    "    \"regressor__max_leaf_nodes\": [2, 5, 10, 20, 50, 100],\n",
    "    \"regressor__learning_rate\": loguniform(0.01, 1),\n",
    "}\n",
    "\n",
    "grad_boost_search_cv = RandomizedSearchCV(\n",
    "    grad_boost,\n",
    "    param_distributions=param_distributions_grad_boost,\n",
    "    scoring=\"neg_mean_absolute_error\",\n",
    "    n_iter=80,\n",
    "    cv=inner_cv,\n",
    "    n_jobs=2,\n",
    "    verbose=1,\n",
    "    # random_state=42,\n",
    ")"
   ]
  },
  {
   "cell_type": "code",
   "execution_count": 30,
   "metadata": {},
   "outputs": [
    {
     "name": "stdout",
     "output_type": "stream",
     "text": [
      "Fitting 5 folds for each of 80 candidates, totalling 400 fits\n",
      "Fitting 5 folds for each of 80 candidates, totalling 400 fits\n",
      "Fitting 5 folds for each of 80 candidates, totalling 400 fits\n",
      "Fitting 5 folds for each of 80 candidates, totalling 400 fits\n",
      "Fitting 5 folds for each of 80 candidates, totalling 400 fits\n"
     ]
    }
   ],
   "source": [
    "cv_results_grad_boost = cross_validate(\n",
    "    grad_boost_search_cv,\n",
    "    feature_df,\n",
    "    y,\n",
    "    cv=outer_cv,\n",
    "    scoring=[\n",
    "        \"r2\",\n",
    "        \"neg_mean_absolute_error\",\n",
    "        \"neg_mean_absolute_percentage_error\",\n",
    "    ],\n",
    "    return_train_score=True,\n",
    "    return_estimator=True,\n",
    "    n_jobs=2\n",
    ")"
   ]
  },
  {
   "cell_type": "code",
   "execution_count": 31,
   "metadata": {},
   "outputs": [
    {
     "data": {
      "text/plain": [
       "Text(0, 0.5, 'Mean Absolute Error [%]')"
      ]
     },
     "execution_count": 31,
     "metadata": {},
     "output_type": "execute_result"
    },
    {
     "data": {
      "image/png": "[encoded data removed]",
      "text/plain": [
       "<Figure size 720x432 with 1 Axes>"
      ]
     },
     "metadata": {
      "needs_background": "light"
     },
     "output_type": "display_data"
    }
   ],
   "source": [
    "fig, ax = plt.subplots(1, 1, figsize=(10, 6))\n",
    "x, width = np.arange(3), 0.4\n",
    "\n",
    "items = [\n",
    "    (lin_ridge_result[\"test_neg_mean_absolute_percentage_error\"], cv_results_lin_ridge[\"test_neg_mean_absolute_percentage_error\"]),\n",
    "    (rnd_for_result[\"test_neg_mean_absolute_percentage_error\"], cv_results_rand_forest[\"test_neg_mean_absolute_percentage_error\"]),\n",
    "    (grad_boost_result[\"test_neg_mean_absolute_percentage_error\"], cv_results_grad_boost[\"test_neg_mean_absolute_percentage_error\"]),\n",
    "    # hist_native_result[\"test_score\"],\n",
    "]\n",
    "\n",
    "cv_mean = [[np.mean(np.abs(item1))*100, np.mean(np.abs(item2))*100] for item1, item2 in items]\n",
    "cv_std = [[np.std(item1)*100, np.std(item2)*100] for item1, item2 in items]\n",
    "\n",
    "ax.bar(\n",
    "    x=x - width/2,\n",
    "    height=[a_mean[0] for a_mean in cv_mean],\n",
    "    width=width,\n",
    "    yerr=[a_std[0] for a_std in cv_std],\n",
    "    color=[\"C1\", \"C2\", \"C3\"],\n",
    "    label=\"Default\"\n",
    ")\n",
    "ax.bar(\n",
    "    x=x + width/2,\n",
    "    height=[a_mean[1] for a_mean in cv_mean],\n",
    "    width=width,\n",
    "    yerr=[a_std[1] for a_std in cv_std],\n",
    "    color=[\"bisque\", \"limegreen\", \"tomato\"],\n",
    "    label=\"Tuned\"\n",
    ")\n",
    "ax.set(\n",
    "    # xlabel=\"Model\",\n",
    "    # ylabel=\"Mean Absolute Error [%]\",\n",
    "    # title=\"Mean Absolute Error [%]\",\n",
    "    xticks=x,\n",
    "    xticklabels=[\"Linear Ridge\", \"Rand. Forest\", \"Grad. Boost\"],\n",
    ")\n",
    "fig.suptitle(\"Regression Models - Tuned Performance\", size=14)\n",
    "plt.xticks(fontsize=12)\n",
    "plt.yticks(fontsize=12)\n",
    "ax.set_ylabel(\"Mean Absolute Error [%]\", fontsize=12)"
   ]
  },
  {
   "cell_type": "code",
   "execution_count": 32,
   "metadata": {},
   "outputs": [],
   "source": [
    "# Split data using Cross Validator\n",
    "# _ = cv_sfold.get_n_splits(feature_df)\n",
    "data_to_train = []\n",
    "target_to_train = []\n",
    "data_to_test = []\n",
    "target_to_test = []\n",
    "for train_index, test_index in cv_sfold.split(feature_df):\n",
    "    data_to_train.append(feature_df.iloc[train_index, :])\n",
    "    data_to_test.append(feature_df.iloc[test_index, :])\n",
    "    target_to_train.append(y[train_index])\n",
    "    target_to_test.append(y[test_index])"
   ]
  },
  {
   "cell_type": "code",
   "execution_count": 33,
   "metadata": {},
   "outputs": [
    {
     "data": {
      "image/png": "[encoded data removed]",
      "text/plain": [
       "<Figure size 432x288 with 1 Axes>"
      ]
     },
     "metadata": {
      "needs_background": "light"
     },
     "output_type": "display_data"
    },
    {
     "data": {
      "image/png": "[encoded data removed]",
      "text/plain": [
       "<Figure size 432x288 with 1 Axes>"
      ]
     },
     "metadata": {
      "needs_background": "light"
     },
     "output_type": "display_data"
    }
   ],
   "source": [
    "for iFold in range(4,5):\n",
    "\n",
    "    train_pi = permutation_importance(\n",
    "        rnd_for_result['estimator'][iFold],\n",
    "        data_to_train[iFold],\n",
    "        target_to_train[iFold],\n",
    "        n_repeats=10,\n",
    "        random_state=42,\n",
    "        n_jobs=2,\n",
    "        scoring=[\n",
    "            \"r2\",\n",
    "            \"neg_mean_absolute_percentage_error\",\n",
    "        ]\n",
    "    )\n",
    "\n",
    "    test_pi = permutation_importance(\n",
    "        rnd_for_result['estimator'][iFold],\n",
    "        data_to_test[iFold],\n",
    "        target_to_test[iFold],\n",
    "        n_repeats=10,\n",
    "        random_state=42,\n",
    "        n_jobs=2,\n",
    "        scoring=[\n",
    "            \"r2\",\n",
    "            \"neg_mean_absolute_percentage_error\",\n",
    "        ]\n",
    "    )\n",
    "    sorted_importances_idx = train_pi[\"neg_mean_absolute_percentage_error\"].importances_mean.argsort()\n",
    "    train_importances = pd.DataFrame(\n",
    "        train_pi[\"neg_mean_absolute_percentage_error\"].importances[sorted_importances_idx].T*100,\n",
    "        columns=feature_df.columns[sorted_importances_idx],\n",
    "    )\n",
    "    test_importances = pd.DataFrame(\n",
    "        test_pi[\"neg_mean_absolute_percentage_error\"].importances[sorted_importances_idx].T*100,\n",
    "        columns=feature_df.columns[sorted_importances_idx],\n",
    "    )\n",
    "\n",
    "    for name, importances in zip([\"train\", \"test\"], [train_importances, test_importances]):\n",
    "        ax = importances.plot.box(vert=False, whis=10)\n",
    "        ax.set_title(f\"Permutation Importances in {name} set {iFold+1}\")\n",
    "        ax.set_xlabel(\"Decrease in Mean Absolute Error [%]\")\n",
    "        plt.xlim([-5, 45])\n",
    "        ax.axvline(x=0, color=\"k\", linestyle=\"--\")\n",
    "        ax.figure.tight_layout()"
   ]
  },
  {
   "cell_type": "code",
   "execution_count": 34,
   "metadata": {},
   "outputs": [],
   "source": [
    "# refit model with less features\n",
    "red_feature_df = car_price_df[[\n",
    "    'model_key',\n",
    "    'car_type',\n",
    "    'feature_2',\n",
    "    'feature_5',\n",
    "    'feature_7',\n",
    "    'feature_8'\n",
    "] + num_var]\n",
    "\n",
    "red_cat_cols = categorical_columns_selector(red_feature_df)"
   ]
  },
  {
   "cell_type": "code",
   "execution_count": 35,
   "metadata": {},
   "outputs": [],
   "source": [
    "red_rnd_for_result = cross_validate(\n",
    "    rand_forest,\n",
    "    red_feature_df,\n",
    "    y,\n",
    "    cv=cv_sfold,\n",
    "    scoring=[\n",
    "        \"r2\",\n",
    "        \"neg_mean_absolute_percentage_error\",\n",
    "    ],\n",
    "    return_train_score=True,\n",
    "    return_estimator=True,\n",
    ")"
   ]
  },
  {
   "cell_type": "code",
   "execution_count": 36,
   "metadata": {},
   "outputs": [
    {
     "name": "stdout",
     "output_type": "stream",
     "text": [
      "(4830, 10)\n",
      "[-0.18602494 -0.30860056 -0.60053015 -0.37476161 -0.42846616]\n",
      "[-0.18451835 -0.30045181 -0.55562036 -0.36756138 -0.4153516 ]\n"
     ]
    }
   ],
   "source": [
    "print(red_feature_df.shape)\n",
    "print(red_rnd_for_result[\"test_neg_mean_absolute_percentage_error\"])\n",
    "# Compare against model containing all features\n",
    "print(rnd_for_result[\"test_neg_mean_absolute_percentage_error\"])"
   ]
  }
 ],
 "metadata": {
  "kernelspec": {
   "display_name": "Python 3.10.4 64-bit",
   "language": "python",
   "name": "python3"
  },
  "language_info": {
   "codemirror_mode": {
    "name": "ipython",
    "version": 3
   },
   "file_extension": ".py",
   "mimetype": "text/x-python",
   "name": "python",
   "nbconvert_exporter": "python",
   "pygments_lexer": "ipython3",
   "version": "3.10.4"
  },
  "orig_nbformat": 4,
  "vscode": {
   "interpreter": {
    "hash": "949777d72b0d2535278d3dc13498b2535136f6dfe0678499012e853ee9abcab1"
   }
  }
 },
 "nbformat": 4,
 "nbformat_minor": 2
}
